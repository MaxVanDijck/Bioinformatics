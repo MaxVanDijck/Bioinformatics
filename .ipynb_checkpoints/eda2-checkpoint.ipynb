{
 "cells": [
  {
   "cell_type": "code",
   "execution_count": 1,
   "metadata": {},
   "outputs": [
    {
     "name": "stderr",
     "output_type": "stream",
     "text": [
      "Python 3.6.8 :: Anaconda, Inc.\n"
     ]
    }
   ],
   "source": [
    "!python --version\n",
    "import pandas as pd\n",
    "import numpy as np\n",
    "from rdkit import Chem\n",
    "from rdkit.Chem import Descriptors, Lipinski"
   ]
  },
  {
   "cell_type": "code",
   "execution_count": 8,
   "metadata": {},
   "outputs": [
    {
     "data": {
      "text/html": [
       "<div>\n",
       "<style scoped>\n",
       "    .dataframe tbody tr th:only-of-type {\n",
       "        vertical-align: middle;\n",
       "    }\n",
       "\n",
       "    .dataframe tbody tr th {\n",
       "        vertical-align: top;\n",
       "    }\n",
       "\n",
       "    .dataframe thead th {\n",
       "        text-align: right;\n",
       "    }\n",
       "</style>\n",
       "<table border=\"1\" class=\"dataframe\">\n",
       "  <thead>\n",
       "    <tr style=\"text-align: right;\">\n",
       "      <th></th>\n",
       "      <th>molecule_chembl_id</th>\n",
       "      <th>standard_value</th>\n",
       "      <th>bioactivity_class</th>\n",
       "      <th>canonical_smiles</th>\n",
       "    </tr>\n",
       "  </thead>\n",
       "  <tbody>\n",
       "    <tr>\n",
       "      <th>0</th>\n",
       "      <td>CHEMBL9650</td>\n",
       "      <td>30.0</td>\n",
       "      <td>active</td>\n",
       "      <td>CCC(C)[C@H](NC(=O)[C@@H]1CCCN1[P@@](=O)(OC)[C@...</td>\n",
       "    </tr>\n",
       "    <tr>\n",
       "      <th>1</th>\n",
       "      <td>CHEMBL273396</td>\n",
       "      <td>93.0</td>\n",
       "      <td>active</td>\n",
       "      <td>CCC(C)[C@H](NC(=O)[C@@H]1CCCN1[P@@](=O)(OC)[C@...</td>\n",
       "    </tr>\n",
       "    <tr>\n",
       "      <th>2</th>\n",
       "      <td>CHEMBL108102</td>\n",
       "      <td>42.0</td>\n",
       "      <td>active</td>\n",
       "      <td>COC(=O)N[C@H](C(=O)N[C@@H](Cc1ccccc1)C(O)CN(Cc...</td>\n",
       "    </tr>\n",
       "    <tr>\n",
       "      <th>3</th>\n",
       "      <td>CHEMBL322033</td>\n",
       "      <td>1000.0</td>\n",
       "      <td>active</td>\n",
       "      <td>COC(=O)N(C)C(C(=O)N[C@@H](Cc1ccccc1)[C@H](O)CN...</td>\n",
       "    </tr>\n",
       "    <tr>\n",
       "      <th>4</th>\n",
       "      <td>CHEMBL20143</td>\n",
       "      <td>4.0</td>\n",
       "      <td>active</td>\n",
       "      <td>CC(C)[C@H](NC(=O)OCc1ccccc1)C(=O)NC(Cc1ccc(OCc...</td>\n",
       "    </tr>\n",
       "    <tr>\n",
       "      <th>...</th>\n",
       "      <td>...</td>\n",
       "      <td>...</td>\n",
       "      <td>...</td>\n",
       "      <td>...</td>\n",
       "    </tr>\n",
       "    <tr>\n",
       "      <th>3174</th>\n",
       "      <td>CHEMBL376817</td>\n",
       "      <td>5100.0</td>\n",
       "      <td>NaN</td>\n",
       "      <td>NaN</td>\n",
       "    </tr>\n",
       "    <tr>\n",
       "      <th>3175</th>\n",
       "      <td>CHEMBL224644</td>\n",
       "      <td>5300.0</td>\n",
       "      <td>NaN</td>\n",
       "      <td>NaN</td>\n",
       "    </tr>\n",
       "    <tr>\n",
       "      <th>3176</th>\n",
       "      <td>CHEMBL114</td>\n",
       "      <td>0.4</td>\n",
       "      <td>NaN</td>\n",
       "      <td>NaN</td>\n",
       "    </tr>\n",
       "    <tr>\n",
       "      <th>3177</th>\n",
       "      <td>CHEMBL405969</td>\n",
       "      <td>290.0</td>\n",
       "      <td>NaN</td>\n",
       "      <td>NaN</td>\n",
       "    </tr>\n",
       "    <tr>\n",
       "      <th>3178</th>\n",
       "      <td>CHEMBL438376</td>\n",
       "      <td>483.0</td>\n",
       "      <td>NaN</td>\n",
       "      <td>NaN</td>\n",
       "    </tr>\n",
       "  </tbody>\n",
       "</table>\n",
       "<p>3179 rows × 4 columns</p>\n",
       "</div>"
      ],
      "text/plain": [
       "     molecule_chembl_id  standard_value bioactivity_class  \\\n",
       "0            CHEMBL9650            30.0            active   \n",
       "1          CHEMBL273396            93.0            active   \n",
       "2          CHEMBL108102            42.0            active   \n",
       "3          CHEMBL322033          1000.0            active   \n",
       "4           CHEMBL20143             4.0            active   \n",
       "...                 ...             ...               ...   \n",
       "3174       CHEMBL376817          5100.0               NaN   \n",
       "3175       CHEMBL224644          5300.0               NaN   \n",
       "3176          CHEMBL114             0.4               NaN   \n",
       "3177       CHEMBL405969           290.0               NaN   \n",
       "3178       CHEMBL438376           483.0               NaN   \n",
       "\n",
       "                                       canonical_smiles  \n",
       "0     CCC(C)[C@H](NC(=O)[C@@H]1CCCN1[P@@](=O)(OC)[C@...  \n",
       "1     CCC(C)[C@H](NC(=O)[C@@H]1CCCN1[P@@](=O)(OC)[C@...  \n",
       "2     COC(=O)N[C@H](C(=O)N[C@@H](Cc1ccccc1)C(O)CN(Cc...  \n",
       "3     COC(=O)N(C)C(C(=O)N[C@@H](Cc1ccccc1)[C@H](O)CN...  \n",
       "4     CC(C)[C@H](NC(=O)OCc1ccccc1)C(=O)NC(Cc1ccc(OCc...  \n",
       "...                                                 ...  \n",
       "3174                                                NaN  \n",
       "3175                                                NaN  \n",
       "3176                                                NaN  \n",
       "3177                                                NaN  \n",
       "3178                                                NaN  \n",
       "\n",
       "[3179 rows x 4 columns]"
      ]
     },
     "execution_count": 8,
     "metadata": {},
     "output_type": "execute_result"
    }
   ],
   "source": [
    "df = pd.read_csv('bioactivity_data.csv')\n",
    "df = df[df.canonical_smiles.notna()]\n",
    "df_no_smiles = df.drop(columns='canonical_smiles')\n",
    "smiles = []\n",
    "for i in df.canonical_smiles.tolist():\n",
    "    cpd = str(i).split('.')\n",
    "    cpd_longest = max(cpd, key=len)\n",
    "    smiles.append(cpd_longest)\n",
    "    \n",
    "smiles = pd.Series(smiles, name='canonical_smiles')\n",
    "df_clean_smiles = pd.concat([df_no_smiles, smiles], axis=1)\n",
    "df_clean_smiles"
   ]
  },
  {
   "cell_type": "markdown",
   "metadata": {},
   "source": [
    "## Calculate Lipinski descriptors\n",
    "Chistopher Lipinski came up with a set of rule-of-thumb for evaluating the druglikeness of compounds.\n",
    "This is based on the Absorbtion, Distribution, Metabolism and Excretion (ADME) that is also know as the pharmokinetic profile.\n",
    "Lipinski analyzed all orally active FDA-approved drugs in the formulation of what is know as the Rule-Of-Five or Lipinski's-Rule which states the following:\n",
    "\n",
    "- Molecular weight < 500 Dalton\n",
    "- Octanol-water partition coefficient (LogP) < 5\n",
    "- Hydrogen bond donors < 5\n",
    "- Hydrogen bond acceptors < 10"
   ]
  },
  {
   "cell_type": "code",
   "execution_count": 15,
   "metadata": {},
   "outputs": [],
   "source": [
    "def lipinski(smiles, verbose=False):\n",
    "    moldata=[]\n",
    "    for elem in smiles:\n",
    "        mol = Chem.MolFromSmiles(elem)\n",
    "        moldata.append(mol)\n",
    "        \n",
    "    baseData = np.arange(1,1)\n",
    "    i=0\n",
    "    for mol in moldata:\n",
    "        desc_MolWt = Descriptors.MolWt(mol)\n",
    "        desc_MolLogP = Descriptors.MolLogP(mol)\n",
    "        desc_NumHDonors = Lipinski.NumHDonors(mol)\n",
    "        desc_NumHAcceptors = Lipinski.NumHAcceptors(mol)\n",
    "        \n",
    "        row = np.array([desc_MolWt,\n",
    "                        desc_MolLogP,\n",
    "                        desc_NumHDonors,\n",
    "                        desc_NumHAcceptors])\n",
    "        \n",
    "        if(i==0):\n",
    "            baseData=row\n",
    "        else:\n",
    "            baseData=np.vstack([baseData, row])\n",
    "        i += 1\n",
    "        \n",
    "    columnNames=['MW', 'LogP', 'NumHDonors', 'NumHAcceptors']\n",
    "    descriptors = pd.DataFrame(data=baseData, columns=columnNames)\n",
    "    \n",
    "    return descriptors"
   ]
  },
  {
   "cell_type": "code",
   "execution_count": 19,
   "metadata": {},
   "outputs": [
    {
     "ename": "TypeError",
     "evalue": "'numpy.int32' object is not callable",
     "output_type": "error",
     "traceback": [
      "\u001b[1;31m---------------------------------------------------------------------------\u001b[0m",
      "\u001b[1;31mTypeError\u001b[0m                                 Traceback (most recent call last)",
      "\u001b[1;32m<ipython-input-19-742ac5715d9d>\u001b[0m in \u001b[0;36m<module>\u001b[1;34m\u001b[0m\n\u001b[0;32m      1\u001b[0m \u001b[0mdf_lipinski\u001b[0m \u001b[1;33m=\u001b[0m \u001b[0mlipinski\u001b[0m\u001b[1;33m(\u001b[0m\u001b[0mdf\u001b[0m\u001b[1;33m.\u001b[0m\u001b[0mcanonical_smiles\u001b[0m\u001b[1;33m)\u001b[0m\u001b[1;33m\u001b[0m\u001b[1;33m\u001b[0m\u001b[0m\n\u001b[1;32m----> 2\u001b[1;33m \u001b[0mdf_lipinski\u001b[0m\u001b[1;33m.\u001b[0m\u001b[0mhead\u001b[0m\u001b[1;33m(\u001b[0m\u001b[1;33m)\u001b[0m\u001b[1;33m,\u001b[0m \u001b[0mdf_lipinski\u001b[0m\u001b[1;33m.\u001b[0m\u001b[0msize\u001b[0m\u001b[1;33m(\u001b[0m\u001b[1;33m)\u001b[0m\u001b[1;33m\u001b[0m\u001b[1;33m\u001b[0m\u001b[0m\n\u001b[0m",
      "\u001b[1;31mTypeError\u001b[0m: 'numpy.int32' object is not callable"
     ]
    }
   ],
   "source": [
    "df_lipinski = lipinski(df.canonical_smiles)"
   ]
  },
  {
   "cell_type": "code",
   "execution_count": 20,
   "metadata": {},
   "outputs": [
    {
     "name": "stdout",
     "output_type": "stream",
     "text": [
      "12296\n",
      "12296\n"
     ]
    }
   ],
   "source": [
    "print(df_lipinski.size)\n",
    "print(df.size)"
   ]
  },
  {
   "cell_type": "code",
   "execution_count": 23,
   "metadata": {},
   "outputs": [
    {
     "data": {
      "text/html": [
       "<div>\n",
       "<style scoped>\n",
       "    .dataframe tbody tr th:only-of-type {\n",
       "        vertical-align: middle;\n",
       "    }\n",
       "\n",
       "    .dataframe tbody tr th {\n",
       "        vertical-align: top;\n",
       "    }\n",
       "\n",
       "    .dataframe thead th {\n",
       "        text-align: right;\n",
       "    }\n",
       "</style>\n",
       "<table border=\"1\" class=\"dataframe\">\n",
       "  <thead>\n",
       "    <tr style=\"text-align: right;\">\n",
       "      <th></th>\n",
       "      <th>molecule_chembl_id</th>\n",
       "      <th>canonical_smiles</th>\n",
       "      <th>standard_value</th>\n",
       "      <th>bioactivity_class</th>\n",
       "      <th>MW</th>\n",
       "      <th>LogP</th>\n",
       "      <th>NumHDonors</th>\n",
       "      <th>NumHAcceptors</th>\n",
       "    </tr>\n",
       "  </thead>\n",
       "  <tbody>\n",
       "    <tr>\n",
       "      <th>0</th>\n",
       "      <td>CHEMBL9650</td>\n",
       "      <td>CCC(C)[C@H](NC(=O)[C@@H]1CCCN1[P@@](=O)(OC)[C@...</td>\n",
       "      <td>30.0</td>\n",
       "      <td>active</td>\n",
       "      <td>694.811</td>\n",
       "      <td>3.0471</td>\n",
       "      <td>5.0</td>\n",
       "      <td>8.0</td>\n",
       "    </tr>\n",
       "    <tr>\n",
       "      <th>1</th>\n",
       "      <td>CHEMBL273396</td>\n",
       "      <td>CCC(C)[C@H](NC(=O)[C@@H]1CCCN1[P@@](=O)(OC)[C@...</td>\n",
       "      <td>93.0</td>\n",
       "      <td>active</td>\n",
       "      <td>694.811</td>\n",
       "      <td>3.0471</td>\n",
       "      <td>5.0</td>\n",
       "      <td>8.0</td>\n",
       "    </tr>\n",
       "    <tr>\n",
       "      <th>2</th>\n",
       "      <td>CHEMBL108102</td>\n",
       "      <td>COC(=O)N[C@H](C(=O)N[C@@H](Cc1ccccc1)C(O)CN(Cc...</td>\n",
       "      <td>42.0</td>\n",
       "      <td>active</td>\n",
       "      <td>617.719</td>\n",
       "      <td>2.5085</td>\n",
       "      <td>5.0</td>\n",
       "      <td>8.0</td>\n",
       "    </tr>\n",
       "    <tr>\n",
       "      <th>3</th>\n",
       "      <td>CHEMBL322033</td>\n",
       "      <td>COC(=O)N(C)C(C(=O)N[C@@H](Cc1ccccc1)[C@H](O)CN...</td>\n",
       "      <td>1000.0</td>\n",
       "      <td>active</td>\n",
       "      <td>633.831</td>\n",
       "      <td>3.4339</td>\n",
       "      <td>3.0</td>\n",
       "      <td>8.0</td>\n",
       "    </tr>\n",
       "    <tr>\n",
       "      <th>4</th>\n",
       "      <td>CHEMBL20143</td>\n",
       "      <td>CC(C)[C@H](NC(=O)OCc1ccccc1)C(=O)NC(Cc1ccc(OCc...</td>\n",
       "      <td>4.0</td>\n",
       "      <td>active</td>\n",
       "      <td>681.733</td>\n",
       "      <td>4.6737</td>\n",
       "      <td>4.0</td>\n",
       "      <td>7.0</td>\n",
       "    </tr>\n",
       "  </tbody>\n",
       "</table>\n",
       "</div>"
      ],
      "text/plain": [
       "  molecule_chembl_id                                   canonical_smiles  \\\n",
       "0         CHEMBL9650  CCC(C)[C@H](NC(=O)[C@@H]1CCCN1[P@@](=O)(OC)[C@...   \n",
       "1       CHEMBL273396  CCC(C)[C@H](NC(=O)[C@@H]1CCCN1[P@@](=O)(OC)[C@...   \n",
       "2       CHEMBL108102  COC(=O)N[C@H](C(=O)N[C@@H](Cc1ccccc1)C(O)CN(Cc...   \n",
       "3       CHEMBL322033  COC(=O)N(C)C(C(=O)N[C@@H](Cc1ccccc1)[C@H](O)CN...   \n",
       "4        CHEMBL20143  CC(C)[C@H](NC(=O)OCc1ccccc1)C(=O)NC(Cc1ccc(OCc...   \n",
       "\n",
       "   standard_value bioactivity_class       MW    LogP  NumHDonors  \\\n",
       "0            30.0            active  694.811  3.0471         5.0   \n",
       "1            93.0            active  694.811  3.0471         5.0   \n",
       "2            42.0            active  617.719  2.5085         5.0   \n",
       "3          1000.0            active  633.831  3.4339         3.0   \n",
       "4             4.0            active  681.733  4.6737         4.0   \n",
       "\n",
       "   NumHAcceptors  \n",
       "0            8.0  \n",
       "1            8.0  \n",
       "2            8.0  \n",
       "3            8.0  \n",
       "4            7.0  "
      ]
     },
     "execution_count": 23,
     "metadata": {},
     "output_type": "execute_result"
    }
   ],
   "source": [
    "df_combined = pd.concat([df, df_lipinski], axis=1)\n",
    "df_combined.head()"
   ]
  },
  {
   "cell_type": "markdown",
   "metadata": {},
   "source": [
    "## Convert IC50 to pIC50\n",
    "To allow IC<sub>50</sub> data to be more uniformly distributed, we will convert IC<sub>50</sub> to the negative logarithmic scale which is essentially -log10(IC<sub>50</sub>).\n",
    "\n",
    "This custom pIC50() will accept a Dataframe as input and will:\n",
    "- Take the IC<sub>50</sub> values from the standard_value column and converts it from nM to M by multiplying the value by 10^-9\n",
    "- Take the molar value and apply -log10\n",
    "- Delete the standard_value column and create a new pIC50 column"
   ]
  },
  {
   "cell_type": "code",
   "execution_count": 24,
   "metadata": {},
   "outputs": [],
   "source": [
    "def pIC50(input):\n",
    "    pIC50=[]\n",
    "    \n",
    "    for i in input['standard_value_norm']:\n",
    "        molar = i*(10**-9)\n",
    "        pIC50.append(-np.log10(molar))\n",
    "        \n",
    "    input['pIC50'] = pIC50\n",
    "    x = input.drop('standard_value_norm', 1)\n",
    "    \n",
    "    return x"
   ]
  },
  {
   "cell_type": "code",
   "execution_count": 26,
   "metadata": {},
   "outputs": [
    {
     "data": {
      "text/plain": [
       "count    3.074000e+03\n",
       "mean     1.812257e+04\n",
       "std      1.835036e+05\n",
       "min      1.400000e-03\n",
       "25%      2.200000e+00\n",
       "50%      3.830000e+01\n",
       "75%      8.500000e+02\n",
       "max      5.000000e+06\n",
       "Name: standard_value, dtype: float64"
      ]
     },
     "execution_count": 26,
     "metadata": {},
     "output_type": "execute_result"
    }
   ],
   "source": [
    "df_combined.standard_value.describe()"
   ]
  },
  {
   "cell_type": "code",
   "execution_count": 28,
   "metadata": {},
   "outputs": [],
   "source": [
    "def norm_value(input):\n",
    "    norm = []\n",
    "\n",
    "    for i in input['standard_value']:\n",
    "        if i > 100000000:\n",
    "            i = 100000000\n",
    "        norm.append(i)\n",
    "\n",
    "    input['standard_value_norm'] = norm\n",
    "    x = input.drop('standard_value', 1)\n",
    "        \n",
    "    return x"
   ]
  },
  {
   "cell_type": "code",
   "execution_count": 29,
   "metadata": {},
   "outputs": [
    {
     "data": {
      "text/html": [
       "<div>\n",
       "<style scoped>\n",
       "    .dataframe tbody tr th:only-of-type {\n",
       "        vertical-align: middle;\n",
       "    }\n",
       "\n",
       "    .dataframe tbody tr th {\n",
       "        vertical-align: top;\n",
       "    }\n",
       "\n",
       "    .dataframe thead th {\n",
       "        text-align: right;\n",
       "    }\n",
       "</style>\n",
       "<table border=\"1\" class=\"dataframe\">\n",
       "  <thead>\n",
       "    <tr style=\"text-align: right;\">\n",
       "      <th></th>\n",
       "      <th>molecule_chembl_id</th>\n",
       "      <th>canonical_smiles</th>\n",
       "      <th>bioactivity_class</th>\n",
       "      <th>MW</th>\n",
       "      <th>LogP</th>\n",
       "      <th>NumHDonors</th>\n",
       "      <th>NumHAcceptors</th>\n",
       "      <th>standard_value_norm</th>\n",
       "    </tr>\n",
       "  </thead>\n",
       "  <tbody>\n",
       "    <tr>\n",
       "      <th>0</th>\n",
       "      <td>CHEMBL9650</td>\n",
       "      <td>CCC(C)[C@H](NC(=O)[C@@H]1CCCN1[P@@](=O)(OC)[C@...</td>\n",
       "      <td>active</td>\n",
       "      <td>694.811</td>\n",
       "      <td>3.0471</td>\n",
       "      <td>5.0</td>\n",
       "      <td>8.0</td>\n",
       "      <td>30.0</td>\n",
       "    </tr>\n",
       "    <tr>\n",
       "      <th>1</th>\n",
       "      <td>CHEMBL273396</td>\n",
       "      <td>CCC(C)[C@H](NC(=O)[C@@H]1CCCN1[P@@](=O)(OC)[C@...</td>\n",
       "      <td>active</td>\n",
       "      <td>694.811</td>\n",
       "      <td>3.0471</td>\n",
       "      <td>5.0</td>\n",
       "      <td>8.0</td>\n",
       "      <td>93.0</td>\n",
       "    </tr>\n",
       "    <tr>\n",
       "      <th>2</th>\n",
       "      <td>CHEMBL108102</td>\n",
       "      <td>COC(=O)N[C@H](C(=O)N[C@@H](Cc1ccccc1)C(O)CN(Cc...</td>\n",
       "      <td>active</td>\n",
       "      <td>617.719</td>\n",
       "      <td>2.5085</td>\n",
       "      <td>5.0</td>\n",
       "      <td>8.0</td>\n",
       "      <td>42.0</td>\n",
       "    </tr>\n",
       "    <tr>\n",
       "      <th>3</th>\n",
       "      <td>CHEMBL322033</td>\n",
       "      <td>COC(=O)N(C)C(C(=O)N[C@@H](Cc1ccccc1)[C@H](O)CN...</td>\n",
       "      <td>active</td>\n",
       "      <td>633.831</td>\n",
       "      <td>3.4339</td>\n",
       "      <td>3.0</td>\n",
       "      <td>8.0</td>\n",
       "      <td>1000.0</td>\n",
       "    </tr>\n",
       "    <tr>\n",
       "      <th>4</th>\n",
       "      <td>CHEMBL20143</td>\n",
       "      <td>CC(C)[C@H](NC(=O)OCc1ccccc1)C(=O)NC(Cc1ccc(OCc...</td>\n",
       "      <td>active</td>\n",
       "      <td>681.733</td>\n",
       "      <td>4.6737</td>\n",
       "      <td>4.0</td>\n",
       "      <td>7.0</td>\n",
       "      <td>4.0</td>\n",
       "    </tr>\n",
       "  </tbody>\n",
       "</table>\n",
       "</div>"
      ],
      "text/plain": [
       "  molecule_chembl_id                                   canonical_smiles  \\\n",
       "0         CHEMBL9650  CCC(C)[C@H](NC(=O)[C@@H]1CCCN1[P@@](=O)(OC)[C@...   \n",
       "1       CHEMBL273396  CCC(C)[C@H](NC(=O)[C@@H]1CCCN1[P@@](=O)(OC)[C@...   \n",
       "2       CHEMBL108102  COC(=O)N[C@H](C(=O)N[C@@H](Cc1ccccc1)C(O)CN(Cc...   \n",
       "3       CHEMBL322033  COC(=O)N(C)C(C(=O)N[C@@H](Cc1ccccc1)[C@H](O)CN...   \n",
       "4        CHEMBL20143  CC(C)[C@H](NC(=O)OCc1ccccc1)C(=O)NC(Cc1ccc(OCc...   \n",
       "\n",
       "  bioactivity_class       MW    LogP  NumHDonors  NumHAcceptors  \\\n",
       "0            active  694.811  3.0471         5.0            8.0   \n",
       "1            active  694.811  3.0471         5.0            8.0   \n",
       "2            active  617.719  2.5085         5.0            8.0   \n",
       "3            active  633.831  3.4339         3.0            8.0   \n",
       "4            active  681.733  4.6737         4.0            7.0   \n",
       "\n",
       "   standard_value_norm  \n",
       "0                 30.0  \n",
       "1                 93.0  \n",
       "2                 42.0  \n",
       "3               1000.0  \n",
       "4                  4.0  "
      ]
     },
     "execution_count": 29,
     "metadata": {},
     "output_type": "execute_result"
    }
   ],
   "source": [
    "df_norm = norm_value(df_combined)\n",
    "df_norm.head()"
   ]
  },
  {
   "cell_type": "code",
   "execution_count": 30,
   "metadata": {},
   "outputs": [
    {
     "data": {
      "text/plain": [
       "count    3.074000e+03\n",
       "mean     1.812257e+04\n",
       "std      1.835036e+05\n",
       "min      1.400000e-03\n",
       "25%      2.200000e+00\n",
       "50%      3.830000e+01\n",
       "75%      8.500000e+02\n",
       "max      5.000000e+06\n",
       "Name: standard_value, dtype: float64"
      ]
     },
     "execution_count": 30,
     "metadata": {},
     "output_type": "execute_result"
    }
   ],
   "source": [
    "df_combined.standard_value.describe()"
   ]
  },
  {
   "cell_type": "code",
   "execution_count": 31,
   "metadata": {},
   "outputs": [
    {
     "data": {
      "text/html": [
       "<div>\n",
       "<style scoped>\n",
       "    .dataframe tbody tr th:only-of-type {\n",
       "        vertical-align: middle;\n",
       "    }\n",
       "\n",
       "    .dataframe tbody tr th {\n",
       "        vertical-align: top;\n",
       "    }\n",
       "\n",
       "    .dataframe thead th {\n",
       "        text-align: right;\n",
       "    }\n",
       "</style>\n",
       "<table border=\"1\" class=\"dataframe\">\n",
       "  <thead>\n",
       "    <tr style=\"text-align: right;\">\n",
       "      <th></th>\n",
       "      <th>molecule_chembl_id</th>\n",
       "      <th>canonical_smiles</th>\n",
       "      <th>bioactivity_class</th>\n",
       "      <th>MW</th>\n",
       "      <th>LogP</th>\n",
       "      <th>NumHDonors</th>\n",
       "      <th>NumHAcceptors</th>\n",
       "      <th>pIC50</th>\n",
       "    </tr>\n",
       "  </thead>\n",
       "  <tbody>\n",
       "    <tr>\n",
       "      <th>0</th>\n",
       "      <td>CHEMBL9650</td>\n",
       "      <td>CCC(C)[C@H](NC(=O)[C@@H]1CCCN1[P@@](=O)(OC)[C@...</td>\n",
       "      <td>active</td>\n",
       "      <td>694.811</td>\n",
       "      <td>3.0471</td>\n",
       "      <td>5.0</td>\n",
       "      <td>8.0</td>\n",
       "      <td>7.522879</td>\n",
       "    </tr>\n",
       "    <tr>\n",
       "      <th>1</th>\n",
       "      <td>CHEMBL273396</td>\n",
       "      <td>CCC(C)[C@H](NC(=O)[C@@H]1CCCN1[P@@](=O)(OC)[C@...</td>\n",
       "      <td>active</td>\n",
       "      <td>694.811</td>\n",
       "      <td>3.0471</td>\n",
       "      <td>5.0</td>\n",
       "      <td>8.0</td>\n",
       "      <td>7.031517</td>\n",
       "    </tr>\n",
       "    <tr>\n",
       "      <th>2</th>\n",
       "      <td>CHEMBL108102</td>\n",
       "      <td>COC(=O)N[C@H](C(=O)N[C@@H](Cc1ccccc1)C(O)CN(Cc...</td>\n",
       "      <td>active</td>\n",
       "      <td>617.719</td>\n",
       "      <td>2.5085</td>\n",
       "      <td>5.0</td>\n",
       "      <td>8.0</td>\n",
       "      <td>7.376751</td>\n",
       "    </tr>\n",
       "    <tr>\n",
       "      <th>3</th>\n",
       "      <td>CHEMBL322033</td>\n",
       "      <td>COC(=O)N(C)C(C(=O)N[C@@H](Cc1ccccc1)[C@H](O)CN...</td>\n",
       "      <td>active</td>\n",
       "      <td>633.831</td>\n",
       "      <td>3.4339</td>\n",
       "      <td>3.0</td>\n",
       "      <td>8.0</td>\n",
       "      <td>6.000000</td>\n",
       "    </tr>\n",
       "    <tr>\n",
       "      <th>4</th>\n",
       "      <td>CHEMBL20143</td>\n",
       "      <td>CC(C)[C@H](NC(=O)OCc1ccccc1)C(=O)NC(Cc1ccc(OCc...</td>\n",
       "      <td>active</td>\n",
       "      <td>681.733</td>\n",
       "      <td>4.6737</td>\n",
       "      <td>4.0</td>\n",
       "      <td>7.0</td>\n",
       "      <td>8.397940</td>\n",
       "    </tr>\n",
       "  </tbody>\n",
       "</table>\n",
       "</div>"
      ],
      "text/plain": [
       "  molecule_chembl_id                                   canonical_smiles  \\\n",
       "0         CHEMBL9650  CCC(C)[C@H](NC(=O)[C@@H]1CCCN1[P@@](=O)(OC)[C@...   \n",
       "1       CHEMBL273396  CCC(C)[C@H](NC(=O)[C@@H]1CCCN1[P@@](=O)(OC)[C@...   \n",
       "2       CHEMBL108102  COC(=O)N[C@H](C(=O)N[C@@H](Cc1ccccc1)C(O)CN(Cc...   \n",
       "3       CHEMBL322033  COC(=O)N(C)C(C(=O)N[C@@H](Cc1ccccc1)[C@H](O)CN...   \n",
       "4        CHEMBL20143  CC(C)[C@H](NC(=O)OCc1ccccc1)C(=O)NC(Cc1ccc(OCc...   \n",
       "\n",
       "  bioactivity_class       MW    LogP  NumHDonors  NumHAcceptors     pIC50  \n",
       "0            active  694.811  3.0471         5.0            8.0  7.522879  \n",
       "1            active  694.811  3.0471         5.0            8.0  7.031517  \n",
       "2            active  617.719  2.5085         5.0            8.0  7.376751  \n",
       "3            active  633.831  3.4339         3.0            8.0  6.000000  \n",
       "4            active  681.733  4.6737         4.0            7.0  8.397940  "
      ]
     },
     "execution_count": 31,
     "metadata": {},
     "output_type": "execute_result"
    }
   ],
   "source": [
    "df_final = pIC50(df_norm)\n",
    "df_final.head()"
   ]
  },
  {
   "cell_type": "code",
   "execution_count": 32,
   "metadata": {},
   "outputs": [
    {
     "data": {
      "text/plain": [
       "count    3074.000000\n",
       "mean        7.320122\n",
       "std         1.715855\n",
       "min         2.301030\n",
       "25%         6.070581\n",
       "50%         7.416815\n",
       "75%         8.657577\n",
       "max        11.853872\n",
       "Name: pIC50, dtype: float64"
      ]
     },
     "execution_count": 32,
     "metadata": {},
     "output_type": "execute_result"
    }
   ],
   "source": [
    "df_final.pIC50.describe()"
   ]
  },
  {
   "cell_type": "code",
   "execution_count": 34,
   "metadata": {},
   "outputs": [],
   "source": [
    "#Remove intermediate bioactivity class and save\n",
    "df_final = df_final[df_final['bioactivity_class'] != 'intermediate']\n",
    "df_final.to_csv('hiv_bioactivitydata_pIC50.csv')"
   ]
  },
  {
   "cell_type": "markdown",
   "metadata": {},
   "source": [
    "## EDA"
   ]
  },
  {
   "cell_type": "code",
   "execution_count": 36,
   "metadata": {},
   "outputs": [],
   "source": [
    "import seaborn as sns\n",
    "sns.set(style='ticks')\n",
    "import matplotlib.pyplot as plt"
   ]
  },
  {
   "cell_type": "markdown",
   "metadata": {},
   "source": [
    "## Frequency plot of the 2 bioactivity classes"
   ]
  },
  {
   "cell_type": "code",
   "execution_count": 41,
   "metadata": {},
   "outputs": [
    {
     "data": {
      "image/png": "[encoded data removed]",
      "text/plain": [
       "<Figure size 396x396 with 1 Axes>"
      ]
     },
     "metadata": {},
     "output_type": "display_data"
    }
   ],
   "source": [
    "plt.figure(figsize=(5.5, 5.5))\n",
    "\n",
    "sns.countplot(x='bioactivity_class', data=df_final, edgecolor='black')\n",
    "\n",
    "plt.xlabel('Bioactivity class', fontsize=14, fontweight='bold')\n",
    "plt.ylabel('Frequency', fontsize=14, fontweight='bold')\n",
    "\n",
    "plt.savefig('plot_bioactivity_class.pdf')"
   ]
  },
  {
   "cell_type": "markdown",
   "metadata": {},
   "source": [
    "## Scatter plot of MW vs LogP\n",
    "It can be seen that the two bioactivity classes are spanning similar chemical spaces as evident by the scatter plot of MW vs LogP"
   ]
  },
  {
   "cell_type": "code",
   "execution_count": 44,
   "metadata": {},
   "outputs": [
    {
     "data": {
      "image/png": "[encoded data removed]",
      "text/plain": [
       "<Figure size 396x396 with 1 Axes>"
      ]
     },
     "metadata": {},
     "output_type": "display_data"
    }
   ],
   "source": [
    "plt.figure(figsize=(5.5, 5.5))\n",
    "\n",
    "sns.scatterplot(x='MW', y='LogP', data=df_final, hue='bioactivity_class',\n",
    "                size='pIC50', edgecolor='black', alpha=0.7)\n",
    "\n",
    "plt.xlabel('MW', fontsize=14, fontweight='bold')\n",
    "plt.ylabel('LogP', fontsize=14, fontweight='bold')\n",
    "plt.legend(bbox_to_anchor=(1.05, 1), loc=2, borderaxespad=0)\n",
    "plt.savefig('plot_MW_vs_LogP.pdf')"
   ]
  },
  {
   "cell_type": "markdown",
   "metadata": {},
   "source": [
    "# Box Plots"
   ]
  },
  {
   "cell_type": "markdown",
   "metadata": {},
   "source": [
    "## pIC50 Value"
   ]
  },
  {
   "cell_type": "code",
   "execution_count": 47,
   "metadata": {},
   "outputs": [
    {
     "data": {
      "image/png": "[encoded data removed]",
      "text/plain": [
       "<Figure size 396x396 with 1 Axes>"
      ]
     },
     "metadata": {},
     "output_type": "display_data"
    }
   ],
   "source": [
    "plt.figure(figsize=(5.5, 5.5))\n",
    "\n",
    "sns.boxplot(x='bioactivity_class', y='pIC50', data=df_final)\n",
    "\n",
    "plt.xlabel('Bioactivity class', fontsize=14, fontweight='bold')\n",
    "plt.ylabel('pIC50 value', fontsize=14, fontweight='bold')\n",
    "\n",
    "plt.savefig('plot_ic50.pdf')"
   ]
  },
  {
   "cell_type": "code",
   "execution_count": null,
   "metadata": {},
   "outputs": [],
   "source": []
  }
 ],
 "metadata": {
  "kernelspec": {
   "display_name": "bio",
   "language": "python",
   "name": "bio"
  },
  "language_info": {
   "codemirror_mode": {
    "name": "ipython",
    "version": 3
   },
   "file_extension": ".py",
   "mimetype": "text/x-python",
   "name": "python",
   "nbconvert_exporter": "python",
   "pygments_lexer": "ipython3",
   "version": "3.6.8"
  }
 },
 "nbformat": 4,
 "nbformat_minor": 4
}
