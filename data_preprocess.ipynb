{
 "metadata": {
  "language_info": {
   "codemirror_mode": {
    "name": "ipython",
    "version": 3
   },
   "file_extension": ".py",
   "mimetype": "text/x-python",
   "name": "python",
   "nbconvert_exporter": "python",
   "pygments_lexer": "ipython3",
   "version": "3.8.5"
  },
  "orig_nbformat": 4,
  "kernelspec": {
   "name": "python3",
   "display_name": "Python 3.8.5 64-bit ('base': conda)"
  },
  "interpreter": {
   "hash": "9908ad45e85bb90f9d5e2502f82c2048ee2ba5cb75185e06ffb66cc9c82691f7"
  }
 },
 "nbformat": 4,
 "nbformat_minor": 2,
 "cells": [
  {
   "cell_type": "code",
   "execution_count": 8,
   "metadata": {},
   "outputs": [],
   "source": [
    "#Imports\n",
    "import pandas as pd\n",
    "from chembl_webresource_client.new_client import new_client"
   ]
  },
  {
   "cell_type": "code",
   "execution_count": 6,
   "metadata": {},
   "outputs": [
    {
     "output_type": "execute_result",
     "data": {
      "text/plain": [
       "                                    cross_references  \\\n",
       "0  [{'xref_id': 'Q72874', 'xref_name': None, 'xre...   \n",
       "\n",
       "                         organism  \\\n",
       "0  Human immunodeficiency virus 1   \n",
       "\n",
       "                                      pref_name  score  species_group_flag  \\\n",
       "0  Human immunodeficiency virus type 1 protease   15.0               False   \n",
       "\n",
       "  target_chembl_id                                  target_components  \\\n",
       "0        CHEMBL243  [{'accession': 'Q72874', 'component_descriptio...   \n",
       "\n",
       "      target_type  tax_id  \n",
       "0  SINGLE PROTEIN   11676  "
      ],
      "text/html": "<div>\n<style scoped>\n    .dataframe tbody tr th:only-of-type {\n        vertical-align: middle;\n    }\n\n    .dataframe tbody tr th {\n        vertical-align: top;\n    }\n\n    .dataframe thead th {\n        text-align: right;\n    }\n</style>\n<table border=\"1\" class=\"dataframe\">\n  <thead>\n    <tr style=\"text-align: right;\">\n      <th></th>\n      <th>cross_references</th>\n      <th>organism</th>\n      <th>pref_name</th>\n      <th>score</th>\n      <th>species_group_flag</th>\n      <th>target_chembl_id</th>\n      <th>target_components</th>\n      <th>target_type</th>\n      <th>tax_id</th>\n    </tr>\n  </thead>\n  <tbody>\n    <tr>\n      <th>0</th>\n      <td>[{'xref_id': 'Q72874', 'xref_name': None, 'xre...</td>\n      <td>Human immunodeficiency virus 1</td>\n      <td>Human immunodeficiency virus type 1 protease</td>\n      <td>15.0</td>\n      <td>False</td>\n      <td>CHEMBL243</td>\n      <td>[{'accession': 'Q72874', 'component_descriptio...</td>\n      <td>SINGLE PROTEIN</td>\n      <td>11676</td>\n    </tr>\n  </tbody>\n</table>\n</div>"
     },
     "metadata": {},
     "execution_count": 6
    }
   ],
   "source": [
    "#Search for target protein\n",
    "target = new_client.target\n",
    "target_query = target.search('CHEMBL243')\n",
    "targets = pd.DataFrame.from_dict(target_query)\n",
    "targets"
   ]
  },
  {
   "source": [
    "Assign the eigth entry, Influenza A virus Matrix protein M2, to the ***selected_target*** variable and retrieve bioactivity data thats reported as IC<sub>50</sub> values in nM unit."
   ],
   "cell_type": "markdown",
   "metadata": {}
  },
  {
   "cell_type": "code",
   "execution_count": 9,
   "metadata": {},
   "outputs": [
    {
     "output_type": "execute_result",
     "data": {
      "text/plain": [
       "  activity_comment  activity_id activity_properties assay_chembl_id  \\\n",
       "0             None        32165                  []    CHEMBL763424   \n",
       "1             None        32166                  []    CHEMBL763424   \n",
       "2             None        32456                  []    CHEMBL769366   \n",
       "3             None        32459                  []    CHEMBL769366   \n",
       "4             None        33353                  []    CHEMBL696055   \n",
       "\n",
       "                                   assay_description assay_type  \\\n",
       "0  Inhibitory concentration against HIV-1 Proteas...          B   \n",
       "1  Inhibitory concentration against HIV-1 Proteas...          B   \n",
       "2  In vivo antiviral activity (IC50) against HIV-...          B   \n",
       "3  In vivo antiviral activity (IC50) against HIV-...          B   \n",
       "4  Inhibitory activity was determined against HIV...          B   \n",
       "\n",
       "  assay_variant_accession assay_variant_mutation bao_endpoint   bao_format  \\\n",
       "0                    None                   None  BAO_0000190  BAO_0000357   \n",
       "1                    None                   None  BAO_0000190  BAO_0000357   \n",
       "2                    None                   None  BAO_0000190  BAO_0000218   \n",
       "3                    None                   None  BAO_0000190  BAO_0000218   \n",
       "4                    None                   None  BAO_0000190  BAO_0000357   \n",
       "\n",
       "   ...                 target_organism  \\\n",
       "0  ...  Human immunodeficiency virus 1   \n",
       "1  ...  Human immunodeficiency virus 1   \n",
       "2  ...  Human immunodeficiency virus 1   \n",
       "3  ...  Human immunodeficiency virus 1   \n",
       "4  ...  Human immunodeficiency virus 1   \n",
       "\n",
       "                               target_pref_name target_tax_id text_value  \\\n",
       "0  Human immunodeficiency virus type 1 protease         11676       None   \n",
       "1  Human immunodeficiency virus type 1 protease         11676       None   \n",
       "2  Human immunodeficiency virus type 1 protease         11676       None   \n",
       "3  Human immunodeficiency virus type 1 protease         11676       None   \n",
       "4  Human immunodeficiency virus type 1 protease         11676       None   \n",
       "\n",
       "   toid  type    units    uo_units upper_value   value  \n",
       "0  None  IC50  ug ml-1  UO_0000274        None    30.0  \n",
       "1  None  IC50  ug ml-1  UO_0000274        None    93.0  \n",
       "2  None  IC50       nM  UO_0000065        None    42.0  \n",
       "3  None  IC50       nM  UO_0000065        None  1000.0  \n",
       "4  None  IC50       nM  UO_0000065        None     4.0  \n",
       "\n",
       "[5 rows x 45 columns]"
      ],
      "text/html": "<div>\n<style scoped>\n    .dataframe tbody tr th:only-of-type {\n        vertical-align: middle;\n    }\n\n    .dataframe tbody tr th {\n        vertical-align: top;\n    }\n\n    .dataframe thead th {\n        text-align: right;\n    }\n</style>\n<table border=\"1\" class=\"dataframe\">\n  <thead>\n    <tr style=\"text-align: right;\">\n      <th></th>\n      <th>activity_comment</th>\n      <th>activity_id</th>\n      <th>activity_properties</th>\n      <th>assay_chembl_id</th>\n      <th>assay_description</th>\n      <th>assay_type</th>\n      <th>assay_variant_accession</th>\n      <th>assay_variant_mutation</th>\n      <th>bao_endpoint</th>\n      <th>bao_format</th>\n      <th>...</th>\n      <th>target_organism</th>\n      <th>target_pref_name</th>\n      <th>target_tax_id</th>\n      <th>text_value</th>\n      <th>toid</th>\n      <th>type</th>\n      <th>units</th>\n      <th>uo_units</th>\n      <th>upper_value</th>\n      <th>value</th>\n    </tr>\n  </thead>\n  <tbody>\n    <tr>\n      <th>0</th>\n      <td>None</td>\n      <td>32165</td>\n      <td>[]</td>\n      <td>CHEMBL763424</td>\n      <td>Inhibitory concentration against HIV-1 Proteas...</td>\n      <td>B</td>\n      <td>None</td>\n      <td>None</td>\n      <td>BAO_0000190</td>\n      <td>BAO_0000357</td>\n      <td>...</td>\n      <td>Human immunodeficiency virus 1</td>\n      <td>Human immunodeficiency virus type 1 protease</td>\n      <td>11676</td>\n      <td>None</td>\n      <td>None</td>\n      <td>IC50</td>\n      <td>ug ml-1</td>\n      <td>UO_0000274</td>\n      <td>None</td>\n      <td>30.0</td>\n    </tr>\n    <tr>\n      <th>1</th>\n      <td>None</td>\n      <td>32166</td>\n      <td>[]</td>\n      <td>CHEMBL763424</td>\n      <td>Inhibitory concentration against HIV-1 Proteas...</td>\n      <td>B</td>\n      <td>None</td>\n      <td>None</td>\n      <td>BAO_0000190</td>\n      <td>BAO_0000357</td>\n      <td>...</td>\n      <td>Human immunodeficiency virus 1</td>\n      <td>Human immunodeficiency virus type 1 protease</td>\n      <td>11676</td>\n      <td>None</td>\n      <td>None</td>\n      <td>IC50</td>\n      <td>ug ml-1</td>\n      <td>UO_0000274</td>\n      <td>None</td>\n      <td>93.0</td>\n    </tr>\n    <tr>\n      <th>2</th>\n      <td>None</td>\n      <td>32456</td>\n      <td>[]</td>\n      <td>CHEMBL769366</td>\n      <td>In vivo antiviral activity (IC50) against HIV-...</td>\n      <td>B</td>\n      <td>None</td>\n      <td>None</td>\n      <td>BAO_0000190</td>\n      <td>BAO_0000218</td>\n      <td>...</td>\n      <td>Human immunodeficiency virus 1</td>\n      <td>Human immunodeficiency virus type 1 protease</td>\n      <td>11676</td>\n      <td>None</td>\n      <td>None</td>\n      <td>IC50</td>\n      <td>nM</td>\n      <td>UO_0000065</td>\n      <td>None</td>\n      <td>42.0</td>\n    </tr>\n    <tr>\n      <th>3</th>\n      <td>None</td>\n      <td>32459</td>\n      <td>[]</td>\n      <td>CHEMBL769366</td>\n      <td>In vivo antiviral activity (IC50) against HIV-...</td>\n      <td>B</td>\n      <td>None</td>\n      <td>None</td>\n      <td>BAO_0000190</td>\n      <td>BAO_0000218</td>\n      <td>...</td>\n      <td>Human immunodeficiency virus 1</td>\n      <td>Human immunodeficiency virus type 1 protease</td>\n      <td>11676</td>\n      <td>None</td>\n      <td>None</td>\n      <td>IC50</td>\n      <td>nM</td>\n      <td>UO_0000065</td>\n      <td>None</td>\n      <td>1000.0</td>\n    </tr>\n    <tr>\n      <th>4</th>\n      <td>None</td>\n      <td>33353</td>\n      <td>[]</td>\n      <td>CHEMBL696055</td>\n      <td>Inhibitory activity was determined against HIV...</td>\n      <td>B</td>\n      <td>None</td>\n      <td>None</td>\n      <td>BAO_0000190</td>\n      <td>BAO_0000357</td>\n      <td>...</td>\n      <td>Human immunodeficiency virus 1</td>\n      <td>Human immunodeficiency virus type 1 protease</td>\n      <td>11676</td>\n      <td>None</td>\n      <td>None</td>\n      <td>IC50</td>\n      <td>nM</td>\n      <td>UO_0000065</td>\n      <td>None</td>\n      <td>4.0</td>\n    </tr>\n  </tbody>\n</table>\n<p>5 rows × 45 columns</p>\n</div>"
     },
     "metadata": {},
     "execution_count": 9
    }
   ],
   "source": [
    "selected_target = targets.target_chembl_id[0]\n",
    "activity = new_client.activity\n",
    "res = activity.filter(target_chembl_id=selected_target).filter(standard_type='IC50')\n",
    "df = pd.DataFrame.from_dict(res)\n",
    "df.head()"
   ]
  },
  {
   "source": [
    "## Datapreprocessing"
   ],
   "cell_type": "markdown",
   "metadata": {}
  },
  {
   "cell_type": "code",
   "execution_count": 7,
   "metadata": {},
   "outputs": [
    {
     "output_type": "execute_result",
     "data": {
      "text/plain": [
       "     molecule_chembl_id                                   canonical_smiles  \\\n",
       "0            CHEMBL9650  CCC(C)[C@H](NC(=O)[C@@H]1CCCN1[P@@](=O)(OC)[C@...   \n",
       "1          CHEMBL273396  CCC(C)[C@H](NC(=O)[C@@H]1CCCN1[P@@](=O)(OC)[C@...   \n",
       "2          CHEMBL108102  COC(=O)N[C@H](C(=O)N[C@@H](Cc1ccccc1)C(O)CN(Cc...   \n",
       "3          CHEMBL322033  COC(=O)N(C)C(C(=O)N[C@@H](Cc1ccccc1)[C@H](O)CN...   \n",
       "4           CHEMBL20143  CC(C)[C@H](NC(=O)OCc1ccccc1)C(=O)NC(Cc1ccc(OCc...   \n",
       "...                 ...                                                ...   \n",
       "3174       CHEMBL376817  COC(=O)[C@H](CC(N)=O)NC(=O)[C@H](CC(C)C)NC(=O)...   \n",
       "3175       CHEMBL224644  CC[C@H](C)[C@H](NC(=O)CCCOc1ccc2ccc(OCCCC(=O)N...   \n",
       "3177          CHEMBL114  CC(C)(C)NC(=O)[C@@H]1C[C@@H]2CCCC[C@@H]2CN1C[C...   \n",
       "3178       CHEMBL405969  CC(C)(C)NC(=O)[C@@H]1C[C@@H]2CCCC[C@@H]2CN1C[C...   \n",
       "3179       CHEMBL438376  CC(C)(C)NC(=O)[C@@H]1C[C@@H]2CCCC[C@@H]2CN1C[C...   \n",
       "\n",
       "     standard_value bioactivity_class  \n",
       "0              30.0            active  \n",
       "1              93.0            active  \n",
       "2              42.0            active  \n",
       "3            1000.0            active  \n",
       "4               4.0            active  \n",
       "...             ...               ...  \n",
       "3174         5100.0               NaN  \n",
       "3175         5300.0               NaN  \n",
       "3177            0.4               NaN  \n",
       "3178          290.0               NaN  \n",
       "3179          483.0               NaN  \n",
       "\n",
       "[3179 rows x 4 columns]"
      ],
      "text/html": "<div>\n<style scoped>\n    .dataframe tbody tr th:only-of-type {\n        vertical-align: middle;\n    }\n\n    .dataframe tbody tr th {\n        vertical-align: top;\n    }\n\n    .dataframe thead th {\n        text-align: right;\n    }\n</style>\n<table border=\"1\" class=\"dataframe\">\n  <thead>\n    <tr style=\"text-align: right;\">\n      <th></th>\n      <th>molecule_chembl_id</th>\n      <th>canonical_smiles</th>\n      <th>standard_value</th>\n      <th>bioactivity_class</th>\n    </tr>\n  </thead>\n  <tbody>\n    <tr>\n      <th>0</th>\n      <td>CHEMBL9650</td>\n      <td>CCC(C)[C@H](NC(=O)[C@@H]1CCCN1[P@@](=O)(OC)[C@...</td>\n      <td>30.0</td>\n      <td>active</td>\n    </tr>\n    <tr>\n      <th>1</th>\n      <td>CHEMBL273396</td>\n      <td>CCC(C)[C@H](NC(=O)[C@@H]1CCCN1[P@@](=O)(OC)[C@...</td>\n      <td>93.0</td>\n      <td>active</td>\n    </tr>\n    <tr>\n      <th>2</th>\n      <td>CHEMBL108102</td>\n      <td>COC(=O)N[C@H](C(=O)N[C@@H](Cc1ccccc1)C(O)CN(Cc...</td>\n      <td>42.0</td>\n      <td>active</td>\n    </tr>\n    <tr>\n      <th>3</th>\n      <td>CHEMBL322033</td>\n      <td>COC(=O)N(C)C(C(=O)N[C@@H](Cc1ccccc1)[C@H](O)CN...</td>\n      <td>1000.0</td>\n      <td>active</td>\n    </tr>\n    <tr>\n      <th>4</th>\n      <td>CHEMBL20143</td>\n      <td>CC(C)[C@H](NC(=O)OCc1ccccc1)C(=O)NC(Cc1ccc(OCc...</td>\n      <td>4.0</td>\n      <td>active</td>\n    </tr>\n    <tr>\n      <th>...</th>\n      <td>...</td>\n      <td>...</td>\n      <td>...</td>\n      <td>...</td>\n    </tr>\n    <tr>\n      <th>3174</th>\n      <td>CHEMBL376817</td>\n      <td>COC(=O)[C@H](CC(N)=O)NC(=O)[C@H](CC(C)C)NC(=O)...</td>\n      <td>5100.0</td>\n      <td>NaN</td>\n    </tr>\n    <tr>\n      <th>3175</th>\n      <td>CHEMBL224644</td>\n      <td>CC[C@H](C)[C@H](NC(=O)CCCOc1ccc2ccc(OCCCC(=O)N...</td>\n      <td>5300.0</td>\n      <td>NaN</td>\n    </tr>\n    <tr>\n      <th>3177</th>\n      <td>CHEMBL114</td>\n      <td>CC(C)(C)NC(=O)[C@@H]1C[C@@H]2CCCC[C@@H]2CN1C[C...</td>\n      <td>0.4</td>\n      <td>NaN</td>\n    </tr>\n    <tr>\n      <th>3178</th>\n      <td>CHEMBL405969</td>\n      <td>CC(C)(C)NC(=O)[C@@H]1C[C@@H]2CCCC[C@@H]2CN1C[C...</td>\n      <td>290.0</td>\n      <td>NaN</td>\n    </tr>\n    <tr>\n      <th>3179</th>\n      <td>CHEMBL438376</td>\n      <td>CC(C)(C)NC(=O)[C@@H]1C[C@@H]2CCCC[C@@H]2CN1C[C...</td>\n      <td>483.0</td>\n      <td>NaN</td>\n    </tr>\n  </tbody>\n</table>\n<p>3179 rows × 4 columns</p>\n</div>"
     },
     "metadata": {},
     "execution_count": 7
    }
   ],
   "source": [
    "#Drop missing data\n",
    "df = df[df.standard_value.notna()]\n",
    "df = df[df.canonical_smiles.notna()]\n",
    "\n",
    "#Label compounds as active, inactive or intermediate\n",
    "bioactivity_class = []\n",
    "for i in df.standard_value:\n",
    "    if float(i) >= 100000:\n",
    "        bioactivity_class.append('inactive')\n",
    "    elif float(i) <= 1000:\n",
    "        bioactivity_class.append('active')\n",
    "    else:\n",
    "        bioactivity_class.append('intermediate')\n",
    "\n",
    "#Create dataframe of compund labels and:\n",
    "#molecule_chembl_id\n",
    "#canonical_smiles\n",
    "#standard_value\n",
    "data_targets = ['molecule_chembl_id', 'canonical_smiles', 'standard_value']\n",
    "df2 = df[data_targets]\n",
    "df2 = pd.concat([df2, pd.Series(bioactivity_class, name='bioactivity_class')], axis=1)\n",
    "df2.to_csv('bioactivity_data.csv', index=False)\n",
    "df2"
   ]
  },
  {
   "cell_type": "code",
   "execution_count": null,
   "metadata": {},
   "outputs": [],
   "source": []
  }
 ]
}