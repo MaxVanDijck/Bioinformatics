{
 "metadata": {
  "language_info": {
   "codemirror_mode": {
    "name": "ipython",
    "version": 3
   },
   "file_extension": ".py",
   "mimetype": "text/x-python",
   "name": "python",
   "nbconvert_exporter": "python",
   "pygments_lexer": "ipython3",
   "version": "3.6.8"
  },
  "orig_nbformat": 4,
  "kernelspec": {
   "name": "python3",
   "display_name": "Python 3.6.8 64-bit ('bio': conda)"
  },
  "interpreter": {
   "hash": "9d392bc3b806352fcb492b713372b13bd7a4d26bf9cbbe11a749da063d33ff15"
  }
 },
 "nbformat": 4,
 "nbformat_minor": 2,
 "cells": [
  {
   "cell_type": "code",
   "execution_count": 1,
   "metadata": {},
   "outputs": [],
   "source": [
    "import pandas as pd"
   ]
  },
  {
   "cell_type": "code",
   "execution_count": 2,
   "metadata": {},
   "outputs": [
    {
     "output_type": "execute_result",
     "data": {
      "text/plain": [
       "      Unnamed: 0  index molecule_chembl_id  \\\n",
       "0              0      0         CHEMBL9650   \n",
       "1              1      1       CHEMBL273396   \n",
       "2              2      2       CHEMBL108102   \n",
       "3              3      3       CHEMBL322033   \n",
       "4              4      4        CHEMBL20143   \n",
       "...          ...    ...                ...   \n",
       "2160        2450   3160      CHEMBL2374441   \n",
       "2161        2451   3161       CHEMBL386847   \n",
       "2162        2460   3171       CHEMBL376190   \n",
       "2163        2465   3178       CHEMBL405969   \n",
       "2164        2466   3179       CHEMBL438376   \n",
       "\n",
       "                                       canonical_smiles     class        MW  \\\n",
       "0     CCC(C)[C@H](NC(=O)[C@@H]1CCCN1[P@@](=O)(OC)[C@...    active   694.811   \n",
       "1     CCC(C)[C@H](NC(=O)[C@@H]1CCCN1[P@@](=O)(OC)[C@...    active   694.811   \n",
       "2     COC(=O)N[C@H](C(=O)N[C@@H](Cc1ccccc1)C(O)CN(Cc...    active   617.719   \n",
       "3     COC(=O)N(C)C(C(=O)N[C@@H](Cc1ccccc1)[C@H](O)CN...    active   633.831   \n",
       "4     CC(C)[C@H](NC(=O)OCc1ccccc1)C(=O)NC(Cc1ccc(OCc...    active   681.733   \n",
       "...                                                 ...       ...       ...   \n",
       "2160  COC(=O)N[C@H](Cc1ccccc1)C(=O)NCCCC[C@@H](CO)N(...    active   548.706   \n",
       "2161  Cc1ccc(C)c(N2CCN(Cc3cn([C@@H](Cc4ccccc4)[C@H](...  inactive   606.815   \n",
       "2162  COC(=O)[C@@H](NC(=O)[C@H](CC(C)C)NC(=O)[C@@H](...    active  1119.368   \n",
       "2163  CC(C)(C)NC(=O)[C@@H]1C[C@@H]2CCCC[C@@H]2CN1C[C...    active   670.855   \n",
       "2164  CC(C)(C)NC(=O)[C@@H]1C[C@@H]2CCCC[C@@H]2CN1C[C...    active   670.855   \n",
       "\n",
       "         LogP  NumHDonors  NumHAcceptors     pIC50  \n",
       "0     3.04710         5.0            8.0  7.522879  \n",
       "1     3.04710         5.0            8.0  7.031517  \n",
       "2     2.50850         5.0            8.0  7.376751  \n",
       "3     3.43390         3.0            8.0  6.000000  \n",
       "4     4.67370         4.0            7.0  8.397940  \n",
       "...       ...         ...            ...       ...  \n",
       "2160  2.53020         4.0            7.0  7.920819  \n",
       "2161  6.28104         1.0            7.0  4.602060  \n",
       "2162  4.59430         8.0           15.0  6.000000  \n",
       "2163  3.09240         5.0            7.0  6.537602  \n",
       "2164  3.09240         5.0            7.0  6.316053  \n",
       "\n",
       "[2165 rows x 10 columns]"
      ],
      "text/html": "<div>\n<style scoped>\n    .dataframe tbody tr th:only-of-type {\n        vertical-align: middle;\n    }\n\n    .dataframe tbody tr th {\n        vertical-align: top;\n    }\n\n    .dataframe thead th {\n        text-align: right;\n    }\n</style>\n<table border=\"1\" class=\"dataframe\">\n  <thead>\n    <tr style=\"text-align: right;\">\n      <th></th>\n      <th>Unnamed: 0</th>\n      <th>index</th>\n      <th>molecule_chembl_id</th>\n      <th>canonical_smiles</th>\n      <th>class</th>\n      <th>MW</th>\n      <th>LogP</th>\n      <th>NumHDonors</th>\n      <th>NumHAcceptors</th>\n      <th>pIC50</th>\n    </tr>\n  </thead>\n  <tbody>\n    <tr>\n      <th>0</th>\n      <td>0</td>\n      <td>0</td>\n      <td>CHEMBL9650</td>\n      <td>CCC(C)[C@H](NC(=O)[C@@H]1CCCN1[P@@](=O)(OC)[C@...</td>\n      <td>active</td>\n      <td>694.811</td>\n      <td>3.04710</td>\n      <td>5.0</td>\n      <td>8.0</td>\n      <td>7.522879</td>\n    </tr>\n    <tr>\n      <th>1</th>\n      <td>1</td>\n      <td>1</td>\n      <td>CHEMBL273396</td>\n      <td>CCC(C)[C@H](NC(=O)[C@@H]1CCCN1[P@@](=O)(OC)[C@...</td>\n      <td>active</td>\n      <td>694.811</td>\n      <td>3.04710</td>\n      <td>5.0</td>\n      <td>8.0</td>\n      <td>7.031517</td>\n    </tr>\n    <tr>\n      <th>2</th>\n      <td>2</td>\n      <td>2</td>\n      <td>CHEMBL108102</td>\n      <td>COC(=O)N[C@H](C(=O)N[C@@H](Cc1ccccc1)C(O)CN(Cc...</td>\n      <td>active</td>\n      <td>617.719</td>\n      <td>2.50850</td>\n      <td>5.0</td>\n      <td>8.0</td>\n      <td>7.376751</td>\n    </tr>\n    <tr>\n      <th>3</th>\n      <td>3</td>\n      <td>3</td>\n      <td>CHEMBL322033</td>\n      <td>COC(=O)N(C)C(C(=O)N[C@@H](Cc1ccccc1)[C@H](O)CN...</td>\n      <td>active</td>\n      <td>633.831</td>\n      <td>3.43390</td>\n      <td>3.0</td>\n      <td>8.0</td>\n      <td>6.000000</td>\n    </tr>\n    <tr>\n      <th>4</th>\n      <td>4</td>\n      <td>4</td>\n      <td>CHEMBL20143</td>\n      <td>CC(C)[C@H](NC(=O)OCc1ccccc1)C(=O)NC(Cc1ccc(OCc...</td>\n      <td>active</td>\n      <td>681.733</td>\n      <td>4.67370</td>\n      <td>4.0</td>\n      <td>7.0</td>\n      <td>8.397940</td>\n    </tr>\n    <tr>\n      <th>...</th>\n      <td>...</td>\n      <td>...</td>\n      <td>...</td>\n      <td>...</td>\n      <td>...</td>\n      <td>...</td>\n      <td>...</td>\n      <td>...</td>\n      <td>...</td>\n      <td>...</td>\n    </tr>\n    <tr>\n      <th>2160</th>\n      <td>2450</td>\n      <td>3160</td>\n      <td>CHEMBL2374441</td>\n      <td>COC(=O)N[C@H](Cc1ccccc1)C(=O)NCCCC[C@@H](CO)N(...</td>\n      <td>active</td>\n      <td>548.706</td>\n      <td>2.53020</td>\n      <td>4.0</td>\n      <td>7.0</td>\n      <td>7.920819</td>\n    </tr>\n    <tr>\n      <th>2161</th>\n      <td>2451</td>\n      <td>3161</td>\n      <td>CHEMBL386847</td>\n      <td>Cc1ccc(C)c(N2CCN(Cc3cn([C@@H](Cc4ccccc4)[C@H](...</td>\n      <td>inactive</td>\n      <td>606.815</td>\n      <td>6.28104</td>\n      <td>1.0</td>\n      <td>7.0</td>\n      <td>4.602060</td>\n    </tr>\n    <tr>\n      <th>2162</th>\n      <td>2460</td>\n      <td>3171</td>\n      <td>CHEMBL376190</td>\n      <td>COC(=O)[C@@H](NC(=O)[C@H](CC(C)C)NC(=O)[C@@H](...</td>\n      <td>active</td>\n      <td>1119.368</td>\n      <td>4.59430</td>\n      <td>8.0</td>\n      <td>15.0</td>\n      <td>6.000000</td>\n    </tr>\n    <tr>\n      <th>2163</th>\n      <td>2465</td>\n      <td>3178</td>\n      <td>CHEMBL405969</td>\n      <td>CC(C)(C)NC(=O)[C@@H]1C[C@@H]2CCCC[C@@H]2CN1C[C...</td>\n      <td>active</td>\n      <td>670.855</td>\n      <td>3.09240</td>\n      <td>5.0</td>\n      <td>7.0</td>\n      <td>6.537602</td>\n    </tr>\n    <tr>\n      <th>2164</th>\n      <td>2466</td>\n      <td>3179</td>\n      <td>CHEMBL438376</td>\n      <td>CC(C)(C)NC(=O)[C@@H]1C[C@@H]2CCCC[C@@H]2CN1C[C...</td>\n      <td>active</td>\n      <td>670.855</td>\n      <td>3.09240</td>\n      <td>5.0</td>\n      <td>7.0</td>\n      <td>6.316053</td>\n    </tr>\n  </tbody>\n</table>\n<p>2165 rows × 10 columns</p>\n</div>"
     },
     "metadata": {},
     "execution_count": 2
    }
   ],
   "source": [
    "df = pd.read_csv('hiv_bioactivitydata_pic50.csv')\n",
    "df"
   ]
  },
  {
   "cell_type": "code",
   "execution_count": 3,
   "metadata": {},
   "outputs": [
    {
     "output_type": "execute_result",
     "data": {
      "text/plain": [
       "                                    canonical_smiles molecule_chembl_id\n",
       "0  CCC(C)[C@H](NC(=O)[C@@H]1CCCN1[P@@](=O)(OC)[C@...         CHEMBL9650\n",
       "1  CCC(C)[C@H](NC(=O)[C@@H]1CCCN1[P@@](=O)(OC)[C@...       CHEMBL273396\n",
       "2  COC(=O)N[C@H](C(=O)N[C@@H](Cc1ccccc1)C(O)CN(Cc...       CHEMBL108102\n",
       "3  COC(=O)N(C)C(C(=O)N[C@@H](Cc1ccccc1)[C@H](O)CN...       CHEMBL322033\n",
       "4  CC(C)[C@H](NC(=O)OCc1ccccc1)C(=O)NC(Cc1ccc(OCc...        CHEMBL20143"
      ],
      "text/html": "<div>\n<style scoped>\n    .dataframe tbody tr th:only-of-type {\n        vertical-align: middle;\n    }\n\n    .dataframe tbody tr th {\n        vertical-align: top;\n    }\n\n    .dataframe thead th {\n        text-align: right;\n    }\n</style>\n<table border=\"1\" class=\"dataframe\">\n  <thead>\n    <tr style=\"text-align: right;\">\n      <th></th>\n      <th>canonical_smiles</th>\n      <th>molecule_chembl_id</th>\n    </tr>\n  </thead>\n  <tbody>\n    <tr>\n      <th>0</th>\n      <td>CCC(C)[C@H](NC(=O)[C@@H]1CCCN1[P@@](=O)(OC)[C@...</td>\n      <td>CHEMBL9650</td>\n    </tr>\n    <tr>\n      <th>1</th>\n      <td>CCC(C)[C@H](NC(=O)[C@@H]1CCCN1[P@@](=O)(OC)[C@...</td>\n      <td>CHEMBL273396</td>\n    </tr>\n    <tr>\n      <th>2</th>\n      <td>COC(=O)N[C@H](C(=O)N[C@@H](Cc1ccccc1)C(O)CN(Cc...</td>\n      <td>CHEMBL108102</td>\n    </tr>\n    <tr>\n      <th>3</th>\n      <td>COC(=O)N(C)C(C(=O)N[C@@H](Cc1ccccc1)[C@H](O)CN...</td>\n      <td>CHEMBL322033</td>\n    </tr>\n    <tr>\n      <th>4</th>\n      <td>CC(C)[C@H](NC(=O)OCc1ccccc1)C(=O)NC(Cc1ccc(OCc...</td>\n      <td>CHEMBL20143</td>\n    </tr>\n  </tbody>\n</table>\n</div>"
     },
     "metadata": {},
     "execution_count": 3
    }
   ],
   "source": [
    "selection = ['canonical_smiles', 'molecule_chembl_id']\n",
    "df_selection = df[selection]\n",
    "df_selection.to_csv('molecule.smi', sep='\\t', index=False, header=False)\n",
    "df_selection.head(5)"
   ]
  },
  {
   "source": [
    "# ATTENTION\n",
    "Script padel.sh must be run now"
   ],
   "cell_type": "markdown",
   "metadata": {}
  },
  {
   "source": [
    "## Preparing the X and Y Data Matrices\n",
    "### X data matrix"
   ],
   "cell_type": "markdown",
   "metadata": {}
  },
  {
   "cell_type": "code",
   "execution_count": 11,
   "metadata": {},
   "outputs": [
    {
     "output_type": "execute_result",
     "data": {
      "text/plain": [
       "               Name  PubchemFP0  PubchemFP1  PubchemFP2  PubchemFP3  \\\n",
       "0      CHEMBL273396           1           1           1           1   \n",
       "1      CHEMBL322033           1           1           1           1   \n",
       "2        CHEMBL9650           1           1           1           1   \n",
       "3      CHEMBL108102           1           1           1           1   \n",
       "4       CHEMBL75310           1           1           1           1   \n",
       "...             ...         ...         ...         ...         ...   \n",
       "2160  CHEMBL2374440           1           1           1           1   \n",
       "2161   CHEMBL386847           1           1           1           1   \n",
       "2162   CHEMBL405969           1           1           1           1   \n",
       "2163   CHEMBL438376           1           1           1           1   \n",
       "2164   CHEMBL376190           1           1           1           1   \n",
       "\n",
       "      PubchemFP4  PubchemFP5  PubchemFP6  PubchemFP7  PubchemFP8  ...  \\\n",
       "0              0           0           0           0           0  ...   \n",
       "1              0           0           0           0           0  ...   \n",
       "2              0           0           0           0           0  ...   \n",
       "3              0           0           0           0           0  ...   \n",
       "4              0           0           0           0           0  ...   \n",
       "...          ...         ...         ...         ...         ...  ...   \n",
       "2160           0           0           0           0           0  ...   \n",
       "2161           0           0           0           0           0  ...   \n",
       "2162           0           0           0           0           0  ...   \n",
       "2163           0           0           0           0           0  ...   \n",
       "2164           0           0           0           0           0  ...   \n",
       "\n",
       "      PubchemFP871  PubchemFP872  PubchemFP873  PubchemFP874  PubchemFP875  \\\n",
       "0                0             0             0             0             0   \n",
       "1                0             0             0             0             0   \n",
       "2                0             0             0             0             0   \n",
       "3                0             0             0             0             0   \n",
       "4                0             0             0             0             0   \n",
       "...            ...           ...           ...           ...           ...   \n",
       "2160             0             0             0             0             0   \n",
       "2161             0             0             0             0             0   \n",
       "2162             0             0             0             0             0   \n",
       "2163             0             0             0             0             0   \n",
       "2164             0             0             0             0             0   \n",
       "\n",
       "      PubchemFP876  PubchemFP877  PubchemFP878  PubchemFP879  PubchemFP880  \n",
       "0                0             0             0             0             0  \n",
       "1                0             0             0             0             0  \n",
       "2                0             0             0             0             0  \n",
       "3                0             0             0             0             0  \n",
       "4                0             0             0             0             0  \n",
       "...            ...           ...           ...           ...           ...  \n",
       "2160             0             0             0             0             0  \n",
       "2161             0             0             0             0             0  \n",
       "2162             0             0             0             0             0  \n",
       "2163             0             0             0             0             0  \n",
       "2164             0             0             0             0             0  \n",
       "\n",
       "[2165 rows x 882 columns]"
      ],
      "text/html": "<div>\n<style scoped>\n    .dataframe tbody tr th:only-of-type {\n        vertical-align: middle;\n    }\n\n    .dataframe tbody tr th {\n        vertical-align: top;\n    }\n\n    .dataframe thead th {\n        text-align: right;\n    }\n</style>\n<table border=\"1\" class=\"dataframe\">\n  <thead>\n    <tr style=\"text-align: right;\">\n      <th></th>\n      <th>Name</th>\n      <th>PubchemFP0</th>\n      <th>PubchemFP1</th>\n      <th>PubchemFP2</th>\n      <th>PubchemFP3</th>\n      <th>PubchemFP4</th>\n      <th>PubchemFP5</th>\n      <th>PubchemFP6</th>\n      <th>PubchemFP7</th>\n      <th>PubchemFP8</th>\n      <th>...</th>\n      <th>PubchemFP871</th>\n      <th>PubchemFP872</th>\n      <th>PubchemFP873</th>\n      <th>PubchemFP874</th>\n      <th>PubchemFP875</th>\n      <th>PubchemFP876</th>\n      <th>PubchemFP877</th>\n      <th>PubchemFP878</th>\n      <th>PubchemFP879</th>\n      <th>PubchemFP880</th>\n    </tr>\n  </thead>\n  <tbody>\n    <tr>\n      <th>0</th>\n      <td>CHEMBL273396</td>\n      <td>1</td>\n      <td>1</td>\n      <td>1</td>\n      <td>1</td>\n      <td>0</td>\n      <td>0</td>\n      <td>0</td>\n      <td>0</td>\n      <td>0</td>\n      <td>...</td>\n      <td>0</td>\n      <td>0</td>\n      <td>0</td>\n      <td>0</td>\n      <td>0</td>\n      <td>0</td>\n      <td>0</td>\n      <td>0</td>\n      <td>0</td>\n      <td>0</td>\n    </tr>\n    <tr>\n      <th>1</th>\n      <td>CHEMBL322033</td>\n      <td>1</td>\n      <td>1</td>\n      <td>1</td>\n      <td>1</td>\n      <td>0</td>\n      <td>0</td>\n      <td>0</td>\n      <td>0</td>\n      <td>0</td>\n      <td>...</td>\n      <td>0</td>\n      <td>0</td>\n      <td>0</td>\n      <td>0</td>\n      <td>0</td>\n      <td>0</td>\n      <td>0</td>\n      <td>0</td>\n      <td>0</td>\n      <td>0</td>\n    </tr>\n    <tr>\n      <th>2</th>\n      <td>CHEMBL9650</td>\n      <td>1</td>\n      <td>1</td>\n      <td>1</td>\n      <td>1</td>\n      <td>0</td>\n      <td>0</td>\n      <td>0</td>\n      <td>0</td>\n      <td>0</td>\n      <td>...</td>\n      <td>0</td>\n      <td>0</td>\n      <td>0</td>\n      <td>0</td>\n      <td>0</td>\n      <td>0</td>\n      <td>0</td>\n      <td>0</td>\n      <td>0</td>\n      <td>0</td>\n    </tr>\n    <tr>\n      <th>3</th>\n      <td>CHEMBL108102</td>\n      <td>1</td>\n      <td>1</td>\n      <td>1</td>\n      <td>1</td>\n      <td>0</td>\n      <td>0</td>\n      <td>0</td>\n      <td>0</td>\n      <td>0</td>\n      <td>...</td>\n      <td>0</td>\n      <td>0</td>\n      <td>0</td>\n      <td>0</td>\n      <td>0</td>\n      <td>0</td>\n      <td>0</td>\n      <td>0</td>\n      <td>0</td>\n      <td>0</td>\n    </tr>\n    <tr>\n      <th>4</th>\n      <td>CHEMBL75310</td>\n      <td>1</td>\n      <td>1</td>\n      <td>1</td>\n      <td>1</td>\n      <td>0</td>\n      <td>0</td>\n      <td>0</td>\n      <td>0</td>\n      <td>0</td>\n      <td>...</td>\n      <td>0</td>\n      <td>0</td>\n      <td>0</td>\n      <td>0</td>\n      <td>0</td>\n      <td>0</td>\n      <td>0</td>\n      <td>0</td>\n      <td>0</td>\n      <td>0</td>\n    </tr>\n    <tr>\n      <th>...</th>\n      <td>...</td>\n      <td>...</td>\n      <td>...</td>\n      <td>...</td>\n      <td>...</td>\n      <td>...</td>\n      <td>...</td>\n      <td>...</td>\n      <td>...</td>\n      <td>...</td>\n      <td>...</td>\n      <td>...</td>\n      <td>...</td>\n      <td>...</td>\n      <td>...</td>\n      <td>...</td>\n      <td>...</td>\n      <td>...</td>\n      <td>...</td>\n      <td>...</td>\n      <td>...</td>\n    </tr>\n    <tr>\n      <th>2160</th>\n      <td>CHEMBL2374440</td>\n      <td>1</td>\n      <td>1</td>\n      <td>1</td>\n      <td>1</td>\n      <td>0</td>\n      <td>0</td>\n      <td>0</td>\n      <td>0</td>\n      <td>0</td>\n      <td>...</td>\n      <td>0</td>\n      <td>0</td>\n      <td>0</td>\n      <td>0</td>\n      <td>0</td>\n      <td>0</td>\n      <td>0</td>\n      <td>0</td>\n      <td>0</td>\n      <td>0</td>\n    </tr>\n    <tr>\n      <th>2161</th>\n      <td>CHEMBL386847</td>\n      <td>1</td>\n      <td>1</td>\n      <td>1</td>\n      <td>1</td>\n      <td>0</td>\n      <td>0</td>\n      <td>0</td>\n      <td>0</td>\n      <td>0</td>\n      <td>...</td>\n      <td>0</td>\n      <td>0</td>\n      <td>0</td>\n      <td>0</td>\n      <td>0</td>\n      <td>0</td>\n      <td>0</td>\n      <td>0</td>\n      <td>0</td>\n      <td>0</td>\n    </tr>\n    <tr>\n      <th>2162</th>\n      <td>CHEMBL405969</td>\n      <td>1</td>\n      <td>1</td>\n      <td>1</td>\n      <td>1</td>\n      <td>0</td>\n      <td>0</td>\n      <td>0</td>\n      <td>0</td>\n      <td>0</td>\n      <td>...</td>\n      <td>0</td>\n      <td>0</td>\n      <td>0</td>\n      <td>0</td>\n      <td>0</td>\n      <td>0</td>\n      <td>0</td>\n      <td>0</td>\n      <td>0</td>\n      <td>0</td>\n    </tr>\n    <tr>\n      <th>2163</th>\n      <td>CHEMBL438376</td>\n      <td>1</td>\n      <td>1</td>\n      <td>1</td>\n      <td>1</td>\n      <td>0</td>\n      <td>0</td>\n      <td>0</td>\n      <td>0</td>\n      <td>0</td>\n      <td>...</td>\n      <td>0</td>\n      <td>0</td>\n      <td>0</td>\n      <td>0</td>\n      <td>0</td>\n      <td>0</td>\n      <td>0</td>\n      <td>0</td>\n      <td>0</td>\n      <td>0</td>\n    </tr>\n    <tr>\n      <th>2164</th>\n      <td>CHEMBL376190</td>\n      <td>1</td>\n      <td>1</td>\n      <td>1</td>\n      <td>1</td>\n      <td>0</td>\n      <td>0</td>\n      <td>0</td>\n      <td>0</td>\n      <td>0</td>\n      <td>...</td>\n      <td>0</td>\n      <td>0</td>\n      <td>0</td>\n      <td>0</td>\n      <td>0</td>\n      <td>0</td>\n      <td>0</td>\n      <td>0</td>\n      <td>0</td>\n      <td>0</td>\n    </tr>\n  </tbody>\n</table>\n<p>2165 rows × 882 columns</p>\n</div>"
     },
     "metadata": {},
     "execution_count": 11
    }
   ],
   "source": [
    "df_x = pd.read_csv('descriptors_output.csv')\n",
    "df_x"
   ]
  },
  {
   "cell_type": "code",
   "execution_count": 12,
   "metadata": {},
   "outputs": [
    {
     "output_type": "execute_result",
     "data": {
      "text/plain": [
       "      PubchemFP0  PubchemFP1  PubchemFP2  PubchemFP3  PubchemFP4  PubchemFP5  \\\n",
       "0              1           1           1           1           0           0   \n",
       "1              1           1           1           1           0           0   \n",
       "2              1           1           1           1           0           0   \n",
       "3              1           1           1           1           0           0   \n",
       "4              1           1           1           1           0           0   \n",
       "...          ...         ...         ...         ...         ...         ...   \n",
       "2160           1           1           1           1           0           0   \n",
       "2161           1           1           1           1           0           0   \n",
       "2162           1           1           1           1           0           0   \n",
       "2163           1           1           1           1           0           0   \n",
       "2164           1           1           1           1           0           0   \n",
       "\n",
       "      PubchemFP6  PubchemFP7  PubchemFP8  PubchemFP9  ...  PubchemFP871  \\\n",
       "0              0           0           0           1  ...             0   \n",
       "1              0           0           0           1  ...             0   \n",
       "2              0           0           0           1  ...             0   \n",
       "3              0           0           0           1  ...             0   \n",
       "4              0           0           0           1  ...             0   \n",
       "...          ...         ...         ...         ...  ...           ...   \n",
       "2160           0           0           0           1  ...             0   \n",
       "2161           0           0           0           1  ...             0   \n",
       "2162           0           0           0           1  ...             0   \n",
       "2163           0           0           0           1  ...             0   \n",
       "2164           0           0           0           1  ...             0   \n",
       "\n",
       "      PubchemFP872  PubchemFP873  PubchemFP874  PubchemFP875  PubchemFP876  \\\n",
       "0                0             0             0             0             0   \n",
       "1                0             0             0             0             0   \n",
       "2                0             0             0             0             0   \n",
       "3                0             0             0             0             0   \n",
       "4                0             0             0             0             0   \n",
       "...            ...           ...           ...           ...           ...   \n",
       "2160             0             0             0             0             0   \n",
       "2161             0             0             0             0             0   \n",
       "2162             0             0             0             0             0   \n",
       "2163             0             0             0             0             0   \n",
       "2164             0             0             0             0             0   \n",
       "\n",
       "      PubchemFP877  PubchemFP878  PubchemFP879  PubchemFP880  \n",
       "0                0             0             0             0  \n",
       "1                0             0             0             0  \n",
       "2                0             0             0             0  \n",
       "3                0             0             0             0  \n",
       "4                0             0             0             0  \n",
       "...            ...           ...           ...           ...  \n",
       "2160             0             0             0             0  \n",
       "2161             0             0             0             0  \n",
       "2162             0             0             0             0  \n",
       "2163             0             0             0             0  \n",
       "2164             0             0             0             0  \n",
       "\n",
       "[2165 rows x 881 columns]"
      ],
      "text/html": "<div>\n<style scoped>\n    .dataframe tbody tr th:only-of-type {\n        vertical-align: middle;\n    }\n\n    .dataframe tbody tr th {\n        vertical-align: top;\n    }\n\n    .dataframe thead th {\n        text-align: right;\n    }\n</style>\n<table border=\"1\" class=\"dataframe\">\n  <thead>\n    <tr style=\"text-align: right;\">\n      <th></th>\n      <th>PubchemFP0</th>\n      <th>PubchemFP1</th>\n      <th>PubchemFP2</th>\n      <th>PubchemFP3</th>\n      <th>PubchemFP4</th>\n      <th>PubchemFP5</th>\n      <th>PubchemFP6</th>\n      <th>PubchemFP7</th>\n      <th>PubchemFP8</th>\n      <th>PubchemFP9</th>\n      <th>...</th>\n      <th>PubchemFP871</th>\n      <th>PubchemFP872</th>\n      <th>PubchemFP873</th>\n      <th>PubchemFP874</th>\n      <th>PubchemFP875</th>\n      <th>PubchemFP876</th>\n      <th>PubchemFP877</th>\n      <th>PubchemFP878</th>\n      <th>PubchemFP879</th>\n      <th>PubchemFP880</th>\n    </tr>\n  </thead>\n  <tbody>\n    <tr>\n      <th>0</th>\n      <td>1</td>\n      <td>1</td>\n      <td>1</td>\n      <td>1</td>\n      <td>0</td>\n      <td>0</td>\n      <td>0</td>\n      <td>0</td>\n      <td>0</td>\n      <td>1</td>\n      <td>...</td>\n      <td>0</td>\n      <td>0</td>\n      <td>0</td>\n      <td>0</td>\n      <td>0</td>\n      <td>0</td>\n      <td>0</td>\n      <td>0</td>\n      <td>0</td>\n      <td>0</td>\n    </tr>\n    <tr>\n      <th>1</th>\n      <td>1</td>\n      <td>1</td>\n      <td>1</td>\n      <td>1</td>\n      <td>0</td>\n      <td>0</td>\n      <td>0</td>\n      <td>0</td>\n      <td>0</td>\n      <td>1</td>\n      <td>...</td>\n      <td>0</td>\n      <td>0</td>\n      <td>0</td>\n      <td>0</td>\n      <td>0</td>\n      <td>0</td>\n      <td>0</td>\n      <td>0</td>\n      <td>0</td>\n      <td>0</td>\n    </tr>\n    <tr>\n      <th>2</th>\n      <td>1</td>\n      <td>1</td>\n      <td>1</td>\n      <td>1</td>\n      <td>0</td>\n      <td>0</td>\n      <td>0</td>\n      <td>0</td>\n      <td>0</td>\n      <td>1</td>\n      <td>...</td>\n      <td>0</td>\n      <td>0</td>\n      <td>0</td>\n      <td>0</td>\n      <td>0</td>\n      <td>0</td>\n      <td>0</td>\n      <td>0</td>\n      <td>0</td>\n      <td>0</td>\n    </tr>\n    <tr>\n      <th>3</th>\n      <td>1</td>\n      <td>1</td>\n      <td>1</td>\n      <td>1</td>\n      <td>0</td>\n      <td>0</td>\n      <td>0</td>\n      <td>0</td>\n      <td>0</td>\n      <td>1</td>\n      <td>...</td>\n      <td>0</td>\n      <td>0</td>\n      <td>0</td>\n      <td>0</td>\n      <td>0</td>\n      <td>0</td>\n      <td>0</td>\n      <td>0</td>\n      <td>0</td>\n      <td>0</td>\n    </tr>\n    <tr>\n      <th>4</th>\n      <td>1</td>\n      <td>1</td>\n      <td>1</td>\n      <td>1</td>\n      <td>0</td>\n      <td>0</td>\n      <td>0</td>\n      <td>0</td>\n      <td>0</td>\n      <td>1</td>\n      <td>...</td>\n      <td>0</td>\n      <td>0</td>\n      <td>0</td>\n      <td>0</td>\n      <td>0</td>\n      <td>0</td>\n      <td>0</td>\n      <td>0</td>\n      <td>0</td>\n      <td>0</td>\n    </tr>\n    <tr>\n      <th>...</th>\n      <td>...</td>\n      <td>...</td>\n      <td>...</td>\n      <td>...</td>\n      <td>...</td>\n      <td>...</td>\n      <td>...</td>\n      <td>...</td>\n      <td>...</td>\n      <td>...</td>\n      <td>...</td>\n      <td>...</td>\n      <td>...</td>\n      <td>...</td>\n      <td>...</td>\n      <td>...</td>\n      <td>...</td>\n      <td>...</td>\n      <td>...</td>\n      <td>...</td>\n      <td>...</td>\n    </tr>\n    <tr>\n      <th>2160</th>\n      <td>1</td>\n      <td>1</td>\n      <td>1</td>\n      <td>1</td>\n      <td>0</td>\n      <td>0</td>\n      <td>0</td>\n      <td>0</td>\n      <td>0</td>\n      <td>1</td>\n      <td>...</td>\n      <td>0</td>\n      <td>0</td>\n      <td>0</td>\n      <td>0</td>\n      <td>0</td>\n      <td>0</td>\n      <td>0</td>\n      <td>0</td>\n      <td>0</td>\n      <td>0</td>\n    </tr>\n    <tr>\n      <th>2161</th>\n      <td>1</td>\n      <td>1</td>\n      <td>1</td>\n      <td>1</td>\n      <td>0</td>\n      <td>0</td>\n      <td>0</td>\n      <td>0</td>\n      <td>0</td>\n      <td>1</td>\n      <td>...</td>\n      <td>0</td>\n      <td>0</td>\n      <td>0</td>\n      <td>0</td>\n      <td>0</td>\n      <td>0</td>\n      <td>0</td>\n      <td>0</td>\n      <td>0</td>\n      <td>0</td>\n    </tr>\n    <tr>\n      <th>2162</th>\n      <td>1</td>\n      <td>1</td>\n      <td>1</td>\n      <td>1</td>\n      <td>0</td>\n      <td>0</td>\n      <td>0</td>\n      <td>0</td>\n      <td>0</td>\n      <td>1</td>\n      <td>...</td>\n      <td>0</td>\n      <td>0</td>\n      <td>0</td>\n      <td>0</td>\n      <td>0</td>\n      <td>0</td>\n      <td>0</td>\n      <td>0</td>\n      <td>0</td>\n      <td>0</td>\n    </tr>\n    <tr>\n      <th>2163</th>\n      <td>1</td>\n      <td>1</td>\n      <td>1</td>\n      <td>1</td>\n      <td>0</td>\n      <td>0</td>\n      <td>0</td>\n      <td>0</td>\n      <td>0</td>\n      <td>1</td>\n      <td>...</td>\n      <td>0</td>\n      <td>0</td>\n      <td>0</td>\n      <td>0</td>\n      <td>0</td>\n      <td>0</td>\n      <td>0</td>\n      <td>0</td>\n      <td>0</td>\n      <td>0</td>\n    </tr>\n    <tr>\n      <th>2164</th>\n      <td>1</td>\n      <td>1</td>\n      <td>1</td>\n      <td>1</td>\n      <td>0</td>\n      <td>0</td>\n      <td>0</td>\n      <td>0</td>\n      <td>0</td>\n      <td>1</td>\n      <td>...</td>\n      <td>0</td>\n      <td>0</td>\n      <td>0</td>\n      <td>0</td>\n      <td>0</td>\n      <td>0</td>\n      <td>0</td>\n      <td>0</td>\n      <td>0</td>\n      <td>0</td>\n    </tr>\n  </tbody>\n</table>\n<p>2165 rows × 881 columns</p>\n</div>"
     },
     "metadata": {},
     "execution_count": 12
    }
   ],
   "source": [
    "df_x = df_x.drop(columns=['Name'])\n",
    "df_x"
   ]
  },
  {
   "source": [
    "### Y data Matrix"
   ],
   "cell_type": "markdown",
   "metadata": {}
  },
  {
   "cell_type": "code",
   "execution_count": 15,
   "metadata": {},
   "outputs": [
    {
     "output_type": "execute_result",
     "data": {
      "text/plain": [
       "0       7.522879\n",
       "1       7.031517\n",
       "2       7.376751\n",
       "3       6.000000\n",
       "4       8.397940\n",
       "          ...   \n",
       "2160    7.920819\n",
       "2161    4.602060\n",
       "2162    6.000000\n",
       "2163    6.537602\n",
       "2164    6.316053\n",
       "Name: pIC50, Length: 2165, dtype: float64"
      ]
     },
     "metadata": {},
     "execution_count": 15
    }
   ],
   "source": [
    "df_y = df['pIC50']\n",
    "df_y"
   ]
  },
  {
   "source": [
    "### Combine X and Y variables"
   ],
   "cell_type": "markdown",
   "metadata": {}
  },
  {
   "cell_type": "code",
   "execution_count": 16,
   "metadata": {},
   "outputs": [
    {
     "output_type": "execute_result",
     "data": {
      "text/plain": [
       "      PubchemFP0  PubchemFP1  PubchemFP2  PubchemFP3  PubchemFP4  PubchemFP5  \\\n",
       "0              1           1           1           1           0           0   \n",
       "1              1           1           1           1           0           0   \n",
       "2              1           1           1           1           0           0   \n",
       "3              1           1           1           1           0           0   \n",
       "4              1           1           1           1           0           0   \n",
       "...          ...         ...         ...         ...         ...         ...   \n",
       "2160           1           1           1           1           0           0   \n",
       "2161           1           1           1           1           0           0   \n",
       "2162           1           1           1           1           0           0   \n",
       "2163           1           1           1           1           0           0   \n",
       "2164           1           1           1           1           0           0   \n",
       "\n",
       "      PubchemFP6  PubchemFP7  PubchemFP8  PubchemFP9  ...  PubchemFP872  \\\n",
       "0              0           0           0           1  ...             0   \n",
       "1              0           0           0           1  ...             0   \n",
       "2              0           0           0           1  ...             0   \n",
       "3              0           0           0           1  ...             0   \n",
       "4              0           0           0           1  ...             0   \n",
       "...          ...         ...         ...         ...  ...           ...   \n",
       "2160           0           0           0           1  ...             0   \n",
       "2161           0           0           0           1  ...             0   \n",
       "2162           0           0           0           1  ...             0   \n",
       "2163           0           0           0           1  ...             0   \n",
       "2164           0           0           0           1  ...             0   \n",
       "\n",
       "      PubchemFP873  PubchemFP874  PubchemFP875  PubchemFP876  PubchemFP877  \\\n",
       "0                0             0             0             0             0   \n",
       "1                0             0             0             0             0   \n",
       "2                0             0             0             0             0   \n",
       "3                0             0             0             0             0   \n",
       "4                0             0             0             0             0   \n",
       "...            ...           ...           ...           ...           ...   \n",
       "2160             0             0             0             0             0   \n",
       "2161             0             0             0             0             0   \n",
       "2162             0             0             0             0             0   \n",
       "2163             0             0             0             0             0   \n",
       "2164             0             0             0             0             0   \n",
       "\n",
       "      PubchemFP878  PubchemFP879  PubchemFP880     pIC50  \n",
       "0                0             0             0  7.522879  \n",
       "1                0             0             0  7.031517  \n",
       "2                0             0             0  7.376751  \n",
       "3                0             0             0  6.000000  \n",
       "4                0             0             0  8.397940  \n",
       "...            ...           ...           ...       ...  \n",
       "2160             0             0             0  7.920819  \n",
       "2161             0             0             0  4.602060  \n",
       "2162             0             0             0  6.000000  \n",
       "2163             0             0             0  6.537602  \n",
       "2164             0             0             0  6.316053  \n",
       "\n",
       "[2165 rows x 882 columns]"
      ],
      "text/html": "<div>\n<style scoped>\n    .dataframe tbody tr th:only-of-type {\n        vertical-align: middle;\n    }\n\n    .dataframe tbody tr th {\n        vertical-align: top;\n    }\n\n    .dataframe thead th {\n        text-align: right;\n    }\n</style>\n<table border=\"1\" class=\"dataframe\">\n  <thead>\n    <tr style=\"text-align: right;\">\n      <th></th>\n      <th>PubchemFP0</th>\n      <th>PubchemFP1</th>\n      <th>PubchemFP2</th>\n      <th>PubchemFP3</th>\n      <th>PubchemFP4</th>\n      <th>PubchemFP5</th>\n      <th>PubchemFP6</th>\n      <th>PubchemFP7</th>\n      <th>PubchemFP8</th>\n      <th>PubchemFP9</th>\n      <th>...</th>\n      <th>PubchemFP872</th>\n      <th>PubchemFP873</th>\n      <th>PubchemFP874</th>\n      <th>PubchemFP875</th>\n      <th>PubchemFP876</th>\n      <th>PubchemFP877</th>\n      <th>PubchemFP878</th>\n      <th>PubchemFP879</th>\n      <th>PubchemFP880</th>\n      <th>pIC50</th>\n    </tr>\n  </thead>\n  <tbody>\n    <tr>\n      <th>0</th>\n      <td>1</td>\n      <td>1</td>\n      <td>1</td>\n      <td>1</td>\n      <td>0</td>\n      <td>0</td>\n      <td>0</td>\n      <td>0</td>\n      <td>0</td>\n      <td>1</td>\n      <td>...</td>\n      <td>0</td>\n      <td>0</td>\n      <td>0</td>\n      <td>0</td>\n      <td>0</td>\n      <td>0</td>\n      <td>0</td>\n      <td>0</td>\n      <td>0</td>\n      <td>7.522879</td>\n    </tr>\n    <tr>\n      <th>1</th>\n      <td>1</td>\n      <td>1</td>\n      <td>1</td>\n      <td>1</td>\n      <td>0</td>\n      <td>0</td>\n      <td>0</td>\n      <td>0</td>\n      <td>0</td>\n      <td>1</td>\n      <td>...</td>\n      <td>0</td>\n      <td>0</td>\n      <td>0</td>\n      <td>0</td>\n      <td>0</td>\n      <td>0</td>\n      <td>0</td>\n      <td>0</td>\n      <td>0</td>\n      <td>7.031517</td>\n    </tr>\n    <tr>\n      <th>2</th>\n      <td>1</td>\n      <td>1</td>\n      <td>1</td>\n      <td>1</td>\n      <td>0</td>\n      <td>0</td>\n      <td>0</td>\n      <td>0</td>\n      <td>0</td>\n      <td>1</td>\n      <td>...</td>\n      <td>0</td>\n      <td>0</td>\n      <td>0</td>\n      <td>0</td>\n      <td>0</td>\n      <td>0</td>\n      <td>0</td>\n      <td>0</td>\n      <td>0</td>\n      <td>7.376751</td>\n    </tr>\n    <tr>\n      <th>3</th>\n      <td>1</td>\n      <td>1</td>\n      <td>1</td>\n      <td>1</td>\n      <td>0</td>\n      <td>0</td>\n      <td>0</td>\n      <td>0</td>\n      <td>0</td>\n      <td>1</td>\n      <td>...</td>\n      <td>0</td>\n      <td>0</td>\n      <td>0</td>\n      <td>0</td>\n      <td>0</td>\n      <td>0</td>\n      <td>0</td>\n      <td>0</td>\n      <td>0</td>\n      <td>6.000000</td>\n    </tr>\n    <tr>\n      <th>4</th>\n      <td>1</td>\n      <td>1</td>\n      <td>1</td>\n      <td>1</td>\n      <td>0</td>\n      <td>0</td>\n      <td>0</td>\n      <td>0</td>\n      <td>0</td>\n      <td>1</td>\n      <td>...</td>\n      <td>0</td>\n      <td>0</td>\n      <td>0</td>\n      <td>0</td>\n      <td>0</td>\n      <td>0</td>\n      <td>0</td>\n      <td>0</td>\n      <td>0</td>\n      <td>8.397940</td>\n    </tr>\n    <tr>\n      <th>...</th>\n      <td>...</td>\n      <td>...</td>\n      <td>...</td>\n      <td>...</td>\n      <td>...</td>\n      <td>...</td>\n      <td>...</td>\n      <td>...</td>\n      <td>...</td>\n      <td>...</td>\n      <td>...</td>\n      <td>...</td>\n      <td>...</td>\n      <td>...</td>\n      <td>...</td>\n      <td>...</td>\n      <td>...</td>\n      <td>...</td>\n      <td>...</td>\n      <td>...</td>\n      <td>...</td>\n    </tr>\n    <tr>\n      <th>2160</th>\n      <td>1</td>\n      <td>1</td>\n      <td>1</td>\n      <td>1</td>\n      <td>0</td>\n      <td>0</td>\n      <td>0</td>\n      <td>0</td>\n      <td>0</td>\n      <td>1</td>\n      <td>...</td>\n      <td>0</td>\n      <td>0</td>\n      <td>0</td>\n      <td>0</td>\n      <td>0</td>\n      <td>0</td>\n      <td>0</td>\n      <td>0</td>\n      <td>0</td>\n      <td>7.920819</td>\n    </tr>\n    <tr>\n      <th>2161</th>\n      <td>1</td>\n      <td>1</td>\n      <td>1</td>\n      <td>1</td>\n      <td>0</td>\n      <td>0</td>\n      <td>0</td>\n      <td>0</td>\n      <td>0</td>\n      <td>1</td>\n      <td>...</td>\n      <td>0</td>\n      <td>0</td>\n      <td>0</td>\n      <td>0</td>\n      <td>0</td>\n      <td>0</td>\n      <td>0</td>\n      <td>0</td>\n      <td>0</td>\n      <td>4.602060</td>\n    </tr>\n    <tr>\n      <th>2162</th>\n      <td>1</td>\n      <td>1</td>\n      <td>1</td>\n      <td>1</td>\n      <td>0</td>\n      <td>0</td>\n      <td>0</td>\n      <td>0</td>\n      <td>0</td>\n      <td>1</td>\n      <td>...</td>\n      <td>0</td>\n      <td>0</td>\n      <td>0</td>\n      <td>0</td>\n      <td>0</td>\n      <td>0</td>\n      <td>0</td>\n      <td>0</td>\n      <td>0</td>\n      <td>6.000000</td>\n    </tr>\n    <tr>\n      <th>2163</th>\n      <td>1</td>\n      <td>1</td>\n      <td>1</td>\n      <td>1</td>\n      <td>0</td>\n      <td>0</td>\n      <td>0</td>\n      <td>0</td>\n      <td>0</td>\n      <td>1</td>\n      <td>...</td>\n      <td>0</td>\n      <td>0</td>\n      <td>0</td>\n      <td>0</td>\n      <td>0</td>\n      <td>0</td>\n      <td>0</td>\n      <td>0</td>\n      <td>0</td>\n      <td>6.537602</td>\n    </tr>\n    <tr>\n      <th>2164</th>\n      <td>1</td>\n      <td>1</td>\n      <td>1</td>\n      <td>1</td>\n      <td>0</td>\n      <td>0</td>\n      <td>0</td>\n      <td>0</td>\n      <td>0</td>\n      <td>1</td>\n      <td>...</td>\n      <td>0</td>\n      <td>0</td>\n      <td>0</td>\n      <td>0</td>\n      <td>0</td>\n      <td>0</td>\n      <td>0</td>\n      <td>0</td>\n      <td>0</td>\n      <td>6.316053</td>\n    </tr>\n  </tbody>\n</table>\n<p>2165 rows × 882 columns</p>\n</div>"
     },
     "metadata": {},
     "execution_count": 16
    }
   ],
   "source": [
    "dataset = pd.concat([df_x, df_y], axis=1)\n",
    "dataset"
   ]
  },
  {
   "cell_type": "code",
   "execution_count": 17,
   "metadata": {},
   "outputs": [],
   "source": [
    "dataset.to_csv('bioactivitydata_descCalc.csv', index=False)"
   ]
  },
  {
   "cell_type": "code",
   "execution_count": null,
   "metadata": {},
   "outputs": [],
   "source": []
  }
 ]
}