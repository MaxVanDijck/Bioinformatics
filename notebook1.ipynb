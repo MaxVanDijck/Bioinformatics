{
 "metadata": {
  "language_info": {
   "codemirror_mode": {
    "name": "ipython",
    "version": 3
   },
   "file_extension": ".py",
   "mimetype": "text/x-python",
   "name": "python",
   "nbconvert_exporter": "python",
   "pygments_lexer": "ipython3",
   "version": "3.8.5"
  },
  "orig_nbformat": 4,
  "kernelspec": {
   "name": "python3",
   "display_name": "Python 3.8.5 64-bit ('base': conda)"
  },
  "interpreter": {
   "hash": "9908ad45e85bb90f9d5e2502f82c2048ee2ba5cb75185e06ffb66cc9c82691f7"
  }
 },
 "nbformat": 4,
 "nbformat_minor": 2,
 "cells": [
  {
   "cell_type": "code",
   "execution_count": 1,
   "metadata": {},
   "outputs": [],
   "source": [
    "#Imports\n",
    "import pandas as pd\n",
    "from chembl_webresource_client.new_client import new_client"
   ]
  },
  {
   "cell_type": "code",
   "execution_count": 2,
   "metadata": {},
   "outputs": [
    {
     "output_type": "execute_result",
     "data": {
      "text/plain": [
       "                                     cross_references  \\\n",
       "0                                                  []   \n",
       "1                                                  []   \n",
       "2                                                  []   \n",
       "3                                                  []   \n",
       "4   [{'xref_id': 'P03438', 'xref_name': None, 'xre...   \n",
       "5                                                  []   \n",
       "6                                                  []   \n",
       "7                                                  []   \n",
       "8   [{'xref_id': 'P63231', 'xref_name': None, 'xre...   \n",
       "9                                                  []   \n",
       "10                                                 []   \n",
       "11                                                 []   \n",
       "\n",
       "                                          organism  \\\n",
       "0                     unidentified influenza virus   \n",
       "1                                Influenza B virus   \n",
       "2                                Influenza A virus   \n",
       "3                                Influenza C virus   \n",
       "4           Influenza A virus (strain A/X-31 H3N2)   \n",
       "5                         Influenza A virus (H5N1)   \n",
       "6                           Influenza A virus H3N2   \n",
       "7            Unidentified Influenza A virus (H1N2)   \n",
       "8       Influenza A virus (A/Udorn/307/1972(H3N2))   \n",
       "9                     Influenza B virus (B/Lee/40)   \n",
       "10  Influenza A virus (A/Puerto Rico/8/1934(H1N1))   \n",
       "11                          Haemophilus influenzae   \n",
       "\n",
       "                                pref_name  score  species_group_flag  \\\n",
       "0            unidentified influenza virus   12.0               False   \n",
       "1                       Influenza B virus   12.0               False   \n",
       "2                       Influenza A virus   12.0               False   \n",
       "3                       Influenza C virus   12.0               False   \n",
       "4         Influenza A virus Hemagglutinin   10.0               False   \n",
       "5                Influenza A virus (H5N1)   10.0               False   \n",
       "6                  Influenza A virus H3N2   10.0               False   \n",
       "7   Unidentified Influenza A virus (H1N2)    9.0               False   \n",
       "8     Influenza virus A matrix protein M2    8.0               False   \n",
       "9            Influenza B virus (B/Lee/40)    8.0               False   \n",
       "10    Influenza A virus (A/PR/8/34(H1N1))    8.0               False   \n",
       "11                 Haemophilus influenzae    6.0               False   \n",
       "\n",
       "   target_chembl_id                                  target_components  \\\n",
       "0      CHEMBL613128                                                 []   \n",
       "1      CHEMBL613129                                                 []   \n",
       "2      CHEMBL613740                                                 []   \n",
       "3      CHEMBL612783                                                 []   \n",
       "4        CHEMBL4918  [{'accession': 'P03438', 'component_descriptio...   \n",
       "5      CHEMBL613845                                                 []   \n",
       "6     CHEMBL2366902                                                 []   \n",
       "7     CHEMBL2367089                                                 []   \n",
       "8        CHEMBL2052  [{'accession': 'P0DOF8', 'component_descriptio...   \n",
       "9      CHEMBL612452                                                 []   \n",
       "10     CHEMBL612610                                                 []   \n",
       "11        CHEMBL355                                                 []   \n",
       "\n",
       "       target_type   tax_id  \n",
       "0         ORGANISM    11309  \n",
       "1         ORGANISM    11520  \n",
       "2         ORGANISM    11320  \n",
       "3         ORGANISM    11552  \n",
       "4   SINGLE PROTEIN   132504  \n",
       "5         ORGANISM   102793  \n",
       "6         ORGANISM    41857  \n",
       "7         ORGANISM  1323429  \n",
       "8   SINGLE PROTEIN   381517  \n",
       "9         ORGANISM   107412  \n",
       "10        ORGANISM   211044  \n",
       "11        ORGANISM      727  "
      ],
      "text/html": "<div>\n<style scoped>\n    .dataframe tbody tr th:only-of-type {\n        vertical-align: middle;\n    }\n\n    .dataframe tbody tr th {\n        vertical-align: top;\n    }\n\n    .dataframe thead th {\n        text-align: right;\n    }\n</style>\n<table border=\"1\" class=\"dataframe\">\n  <thead>\n    <tr style=\"text-align: right;\">\n      <th></th>\n      <th>cross_references</th>\n      <th>organism</th>\n      <th>pref_name</th>\n      <th>score</th>\n      <th>species_group_flag</th>\n      <th>target_chembl_id</th>\n      <th>target_components</th>\n      <th>target_type</th>\n      <th>tax_id</th>\n    </tr>\n  </thead>\n  <tbody>\n    <tr>\n      <th>0</th>\n      <td>[]</td>\n      <td>unidentified influenza virus</td>\n      <td>unidentified influenza virus</td>\n      <td>12.0</td>\n      <td>False</td>\n      <td>CHEMBL613128</td>\n      <td>[]</td>\n      <td>ORGANISM</td>\n      <td>11309</td>\n    </tr>\n    <tr>\n      <th>1</th>\n      <td>[]</td>\n      <td>Influenza B virus</td>\n      <td>Influenza B virus</td>\n      <td>12.0</td>\n      <td>False</td>\n      <td>CHEMBL613129</td>\n      <td>[]</td>\n      <td>ORGANISM</td>\n      <td>11520</td>\n    </tr>\n    <tr>\n      <th>2</th>\n      <td>[]</td>\n      <td>Influenza A virus</td>\n      <td>Influenza A virus</td>\n      <td>12.0</td>\n      <td>False</td>\n      <td>CHEMBL613740</td>\n      <td>[]</td>\n      <td>ORGANISM</td>\n      <td>11320</td>\n    </tr>\n    <tr>\n      <th>3</th>\n      <td>[]</td>\n      <td>Influenza C virus</td>\n      <td>Influenza C virus</td>\n      <td>12.0</td>\n      <td>False</td>\n      <td>CHEMBL612783</td>\n      <td>[]</td>\n      <td>ORGANISM</td>\n      <td>11552</td>\n    </tr>\n    <tr>\n      <th>4</th>\n      <td>[{'xref_id': 'P03438', 'xref_name': None, 'xre...</td>\n      <td>Influenza A virus (strain A/X-31 H3N2)</td>\n      <td>Influenza A virus Hemagglutinin</td>\n      <td>10.0</td>\n      <td>False</td>\n      <td>CHEMBL4918</td>\n      <td>[{'accession': 'P03438', 'component_descriptio...</td>\n      <td>SINGLE PROTEIN</td>\n      <td>132504</td>\n    </tr>\n    <tr>\n      <th>5</th>\n      <td>[]</td>\n      <td>Influenza A virus (H5N1)</td>\n      <td>Influenza A virus (H5N1)</td>\n      <td>10.0</td>\n      <td>False</td>\n      <td>CHEMBL613845</td>\n      <td>[]</td>\n      <td>ORGANISM</td>\n      <td>102793</td>\n    </tr>\n    <tr>\n      <th>6</th>\n      <td>[]</td>\n      <td>Influenza A virus H3N2</td>\n      <td>Influenza A virus H3N2</td>\n      <td>10.0</td>\n      <td>False</td>\n      <td>CHEMBL2366902</td>\n      <td>[]</td>\n      <td>ORGANISM</td>\n      <td>41857</td>\n    </tr>\n    <tr>\n      <th>7</th>\n      <td>[]</td>\n      <td>Unidentified Influenza A virus (H1N2)</td>\n      <td>Unidentified Influenza A virus (H1N2)</td>\n      <td>9.0</td>\n      <td>False</td>\n      <td>CHEMBL2367089</td>\n      <td>[]</td>\n      <td>ORGANISM</td>\n      <td>1323429</td>\n    </tr>\n    <tr>\n      <th>8</th>\n      <td>[{'xref_id': 'P63231', 'xref_name': None, 'xre...</td>\n      <td>Influenza A virus (A/Udorn/307/1972(H3N2))</td>\n      <td>Influenza virus A matrix protein M2</td>\n      <td>8.0</td>\n      <td>False</td>\n      <td>CHEMBL2052</td>\n      <td>[{'accession': 'P0DOF8', 'component_descriptio...</td>\n      <td>SINGLE PROTEIN</td>\n      <td>381517</td>\n    </tr>\n    <tr>\n      <th>9</th>\n      <td>[]</td>\n      <td>Influenza B virus (B/Lee/40)</td>\n      <td>Influenza B virus (B/Lee/40)</td>\n      <td>8.0</td>\n      <td>False</td>\n      <td>CHEMBL612452</td>\n      <td>[]</td>\n      <td>ORGANISM</td>\n      <td>107412</td>\n    </tr>\n    <tr>\n      <th>10</th>\n      <td>[]</td>\n      <td>Influenza A virus (A/Puerto Rico/8/1934(H1N1))</td>\n      <td>Influenza A virus (A/PR/8/34(H1N1))</td>\n      <td>8.0</td>\n      <td>False</td>\n      <td>CHEMBL612610</td>\n      <td>[]</td>\n      <td>ORGANISM</td>\n      <td>211044</td>\n    </tr>\n    <tr>\n      <th>11</th>\n      <td>[]</td>\n      <td>Haemophilus influenzae</td>\n      <td>Haemophilus influenzae</td>\n      <td>6.0</td>\n      <td>False</td>\n      <td>CHEMBL355</td>\n      <td>[]</td>\n      <td>ORGANISM</td>\n      <td>727</td>\n    </tr>\n  </tbody>\n</table>\n</div>"
     },
     "metadata": {},
     "execution_count": 2
    }
   ],
   "source": [
    "#Search for target protein\n",
    "target = new_client.target\n",
    "target_query = target.search('influenza')\n",
    "targets = pd.DataFrame.from_dict(target_query)\n",
    "targets"
   ]
  },
  {
   "source": [
    "Assign the eigth entry, Influenza A virus Matrix protein M2, to the ***selected_target*** variable and retrieve bioactivity data thats reported as IC<sub>50</sub> values in nM unit."
   ],
   "cell_type": "markdown",
   "metadata": {}
  },
  {
   "cell_type": "code",
   "execution_count": 13,
   "metadata": {},
   "outputs": [
    {
     "output_type": "execute_result",
     "data": {
      "text/plain": [
       "  activity_comment  activity_id activity_properties assay_chembl_id  \\\n",
       "0             None     14730724                  []   CHEMBL3291757   \n",
       "1             None     14730725                  []   CHEMBL3291757   \n",
       "2             None     14730726                  []   CHEMBL3291757   \n",
       "3             None     14730727                  []   CHEMBL3291757   \n",
       "4             None     14730730                  []   CHEMBL3291757   \n",
       "\n",
       "                                   assay_description assay_type  \\\n",
       "0  Inhibition of wild type Influenza A virus (A/u...          B   \n",
       "1  Inhibition of wild type Influenza A virus (A/u...          B   \n",
       "2  Inhibition of wild type Influenza A virus (A/u...          B   \n",
       "3  Inhibition of wild type Influenza A virus (A/u...          B   \n",
       "4  Inhibition of wild type Influenza A virus (A/u...          B   \n",
       "\n",
       "  assay_variant_accession assay_variant_mutation bao_endpoint   bao_format  \\\n",
       "0                    None                   None  BAO_0000190  BAO_0000249   \n",
       "1                    None                   None  BAO_0000190  BAO_0000249   \n",
       "2                    None                   None  BAO_0000190  BAO_0000249   \n",
       "3                    None                   None  BAO_0000190  BAO_0000249   \n",
       "4                    None                   None  BAO_0000190  BAO_0000249   \n",
       "\n",
       "   ...                             target_organism  \\\n",
       "0  ...  Influenza A virus (A/Udorn/307/1972(H3N2))   \n",
       "1  ...  Influenza A virus (A/Udorn/307/1972(H3N2))   \n",
       "2  ...  Influenza A virus (A/Udorn/307/1972(H3N2))   \n",
       "3  ...  Influenza A virus (A/Udorn/307/1972(H3N2))   \n",
       "4  ...  Influenza A virus (A/Udorn/307/1972(H3N2))   \n",
       "\n",
       "                      target_pref_name target_tax_id text_value  toid  type  \\\n",
       "0  Influenza virus A matrix protein M2        381517       None  None  IC50   \n",
       "1  Influenza virus A matrix protein M2        381517       None  None  IC50   \n",
       "2  Influenza virus A matrix protein M2        381517       None  None  IC50   \n",
       "3  Influenza virus A matrix protein M2        381517       None  None  IC50   \n",
       "4  Influenza virus A matrix protein M2        381517       None  None  IC50   \n",
       "\n",
       "   units    uo_units upper_value value  \n",
       "0     uM  UO_0000065        None  2.92  \n",
       "1     uM  UO_0000065        None   1.5  \n",
       "2     uM  UO_0000065        None  3.38  \n",
       "3     uM  UO_0000065        None  1.64  \n",
       "4     uM  UO_0000065        None  5.54  \n",
       "\n",
       "[5 rows x 45 columns]"
      ],
      "text/html": "<div>\n<style scoped>\n    .dataframe tbody tr th:only-of-type {\n        vertical-align: middle;\n    }\n\n    .dataframe tbody tr th {\n        vertical-align: top;\n    }\n\n    .dataframe thead th {\n        text-align: right;\n    }\n</style>\n<table border=\"1\" class=\"dataframe\">\n  <thead>\n    <tr style=\"text-align: right;\">\n      <th></th>\n      <th>activity_comment</th>\n      <th>activity_id</th>\n      <th>activity_properties</th>\n      <th>assay_chembl_id</th>\n      <th>assay_description</th>\n      <th>assay_type</th>\n      <th>assay_variant_accession</th>\n      <th>assay_variant_mutation</th>\n      <th>bao_endpoint</th>\n      <th>bao_format</th>\n      <th>...</th>\n      <th>target_organism</th>\n      <th>target_pref_name</th>\n      <th>target_tax_id</th>\n      <th>text_value</th>\n      <th>toid</th>\n      <th>type</th>\n      <th>units</th>\n      <th>uo_units</th>\n      <th>upper_value</th>\n      <th>value</th>\n    </tr>\n  </thead>\n  <tbody>\n    <tr>\n      <th>0</th>\n      <td>None</td>\n      <td>14730724</td>\n      <td>[]</td>\n      <td>CHEMBL3291757</td>\n      <td>Inhibition of wild type Influenza A virus (A/u...</td>\n      <td>B</td>\n      <td>None</td>\n      <td>None</td>\n      <td>BAO_0000190</td>\n      <td>BAO_0000249</td>\n      <td>...</td>\n      <td>Influenza A virus (A/Udorn/307/1972(H3N2))</td>\n      <td>Influenza virus A matrix protein M2</td>\n      <td>381517</td>\n      <td>None</td>\n      <td>None</td>\n      <td>IC50</td>\n      <td>uM</td>\n      <td>UO_0000065</td>\n      <td>None</td>\n      <td>2.92</td>\n    </tr>\n    <tr>\n      <th>1</th>\n      <td>None</td>\n      <td>14730725</td>\n      <td>[]</td>\n      <td>CHEMBL3291757</td>\n      <td>Inhibition of wild type Influenza A virus (A/u...</td>\n      <td>B</td>\n      <td>None</td>\n      <td>None</td>\n      <td>BAO_0000190</td>\n      <td>BAO_0000249</td>\n      <td>...</td>\n      <td>Influenza A virus (A/Udorn/307/1972(H3N2))</td>\n      <td>Influenza virus A matrix protein M2</td>\n      <td>381517</td>\n      <td>None</td>\n      <td>None</td>\n      <td>IC50</td>\n      <td>uM</td>\n      <td>UO_0000065</td>\n      <td>None</td>\n      <td>1.5</td>\n    </tr>\n    <tr>\n      <th>2</th>\n      <td>None</td>\n      <td>14730726</td>\n      <td>[]</td>\n      <td>CHEMBL3291757</td>\n      <td>Inhibition of wild type Influenza A virus (A/u...</td>\n      <td>B</td>\n      <td>None</td>\n      <td>None</td>\n      <td>BAO_0000190</td>\n      <td>BAO_0000249</td>\n      <td>...</td>\n      <td>Influenza A virus (A/Udorn/307/1972(H3N2))</td>\n      <td>Influenza virus A matrix protein M2</td>\n      <td>381517</td>\n      <td>None</td>\n      <td>None</td>\n      <td>IC50</td>\n      <td>uM</td>\n      <td>UO_0000065</td>\n      <td>None</td>\n      <td>3.38</td>\n    </tr>\n    <tr>\n      <th>3</th>\n      <td>None</td>\n      <td>14730727</td>\n      <td>[]</td>\n      <td>CHEMBL3291757</td>\n      <td>Inhibition of wild type Influenza A virus (A/u...</td>\n      <td>B</td>\n      <td>None</td>\n      <td>None</td>\n      <td>BAO_0000190</td>\n      <td>BAO_0000249</td>\n      <td>...</td>\n      <td>Influenza A virus (A/Udorn/307/1972(H3N2))</td>\n      <td>Influenza virus A matrix protein M2</td>\n      <td>381517</td>\n      <td>None</td>\n      <td>None</td>\n      <td>IC50</td>\n      <td>uM</td>\n      <td>UO_0000065</td>\n      <td>None</td>\n      <td>1.64</td>\n    </tr>\n    <tr>\n      <th>4</th>\n      <td>None</td>\n      <td>14730730</td>\n      <td>[]</td>\n      <td>CHEMBL3291757</td>\n      <td>Inhibition of wild type Influenza A virus (A/u...</td>\n      <td>B</td>\n      <td>None</td>\n      <td>None</td>\n      <td>BAO_0000190</td>\n      <td>BAO_0000249</td>\n      <td>...</td>\n      <td>Influenza A virus (A/Udorn/307/1972(H3N2))</td>\n      <td>Influenza virus A matrix protein M2</td>\n      <td>381517</td>\n      <td>None</td>\n      <td>None</td>\n      <td>IC50</td>\n      <td>uM</td>\n      <td>UO_0000065</td>\n      <td>None</td>\n      <td>5.54</td>\n    </tr>\n  </tbody>\n</table>\n<p>5 rows × 45 columns</p>\n</div>"
     },
     "metadata": {},
     "execution_count": 13
    }
   ],
   "source": [
    "selected_target = targets.target_chembl_id[8]\n",
    "activity = new_client.activity\n",
    "res = activity.filter(target_chembl_id=selected_target).filter(standard_type='IC50')\n",
    "df = pd.DataFrame.from_dict(res)\n",
    "df.head()"
   ]
  },
  {
   "source": [
    "Save the bioactivity data into a CSV file *bioactivity_data.csv*"
   ],
   "cell_type": "markdown",
   "metadata": {}
  },
  {
   "cell_type": "code",
   "execution_count": 15,
   "metadata": {},
   "outputs": [],
   "source": [
    "df.to_csv('bioactivity_data.csv', index=False)"
   ]
  }
 ]
}